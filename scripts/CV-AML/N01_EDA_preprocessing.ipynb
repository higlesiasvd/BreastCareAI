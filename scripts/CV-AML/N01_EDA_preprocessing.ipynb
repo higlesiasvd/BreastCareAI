{
 "cells": [
  {
   "cell_type": "markdown",
   "metadata": {},
   "source": [
    "# Computer Vision and Advanced Machine Learning area of the project.\n",
    "### Author: Hugo Iglesias Pombo (2025)\n",
    "### NO1: EDA and preprocessing of the datasets (MIAS and CBIS-DDMS)"
   ]
  },
  {
   "cell_type": "markdown",
   "metadata": {},
   "source": [
    "### Importations"
   ]
  },
  {
   "cell_type": "markdown",
   "metadata": {},
   "source": [
    "Libraries"
   ]
  },
  {
   "cell_type": "code",
   "execution_count": 3,
   "metadata": {},
   "outputs": [],
   "source": [
    "# Basic data manipulation libraries\n",
    "import numpy as np\n",
    "import pandas as pd\n",
    "\n",
    "# Image processing libraries\n",
    "import cv2\n",
    "from PIL import Image\n",
    "import pydicom  # For DICOM medical images\n",
    "\n",
    "# Visualization\n",
    "import matplotlib.pyplot as plt\n",
    "import seaborn as sns\n",
    "\n",
    "# File handling\n",
    "import os\n",
    "import glob"
   ]
  },
  {
   "cell_type": "markdown",
   "metadata": {},
   "source": [
    "Datasets"
   ]
  },
  {
   "cell_type": "code",
   "execution_count": 8,
   "metadata": {},
   "outputs": [
    {
     "name": "stdout",
     "output_type": "stream",
     "text": [
      "Total de registros: 1318\n",
      "Imágenes encontradas: 0\n",
      "Index(['patient_id', 'breast_density', 'left or right breast', 'image view',\n",
      "       'abnormality id', 'abnormality type', 'mass shape', 'mass margins',\n",
      "       'assessment', 'pathology', 'subtlety', 'image file path',\n",
      "       'cropped image file path', 'ROI mask file path', 'image_path',\n",
      "       'exists'],\n",
      "      dtype='object')\n",
      "Series([], Name: count, dtype: int64)\n",
      "Series([], Name: count, dtype: int64)\n"
     ]
    },
    {
     "data": {
      "text/plain": [
       "<Figure size 1500x1000 with 0 Axes>"
      ]
     },
     "metadata": {},
     "output_type": "display_data"
    }
   ],
   "source": [
    "import os\n",
    "import pandas as pd\n",
    "import numpy as np\n",
    "import pydicom\n",
    "import matplotlib.pyplot as plt\n",
    "from skimage import exposure\n",
    "\n",
    "def load_cbis_ddsm(base_dir, csv_path):\n",
    "    \"\"\"\n",
    "    Carga el dataset CBIS-DDSM y sus metadatos.\n",
    "    \n",
    "    Args:\n",
    "        base_dir: Directorio base con las imágenes DICOM\n",
    "        csv_path: Ruta al archivo CSV con los metadatos\n",
    "    \n",
    "    Returns:\n",
    "        df: DataFrame con metadatos y rutas a imágenes\n",
    "    \"\"\"\n",
    "    # Cargar el CSV con metadatos\n",
    "    df = pd.read_csv(csv_path)\n",
    "    \n",
    "    # Añadir columna con ruta completa a las imágenes\n",
    "    df['image_path'] = df.apply(\n",
    "        lambda row: os.path.join(base_dir, row['image file path']), \n",
    "        axis=1\n",
    "    )\n",
    "    \n",
    "    # Verificar que las imágenes existen\n",
    "    df['exists'] = df['image_path'].apply(os.path.exists)\n",
    "    print(f\"Total de registros: {len(df)}\")\n",
    "    print(f\"Imágenes encontradas: {sum(df['exists'])}\")\n",
    "    \n",
    "    # Filtrar solo las imágenes que existen\n",
    "    df = df[df['exists']]\n",
    "    \n",
    "    return df\n",
    "\n",
    "def load_dicom_image(path):\n",
    "    \"\"\"Carga una imagen DICOM y la convierte a array NumPy.\"\"\"\n",
    "    try:\n",
    "        dcm = pydicom.dcmread(path)\n",
    "        img = dcm.pixel_array\n",
    "        \n",
    "        # Normalizar imagen para visualización\n",
    "        img = exposure.equalize_hist(img)\n",
    "        return img, dcm\n",
    "    except Exception as e:\n",
    "        print(f\"Error cargando {path}: {e}\")\n",
    "        return None, None\n",
    "\n",
    "# Ejemplo de uso\n",
    "base_dir = '/Volumes/Proyecto Hugo/breast-cancer-analysis/datasets/CBIS-DDSM'\n",
    "csv_path = '/Volumes/Proyecto Hugo/breast-cancer-analysis/datasets/CBIS-DDSM/csv/mass_case_description_train_set.csv'\n",
    "\n",
    "# Cargar dataset\n",
    "ddsm = load_cbis_ddsm(base_dir, csv_path)\n",
    "\n",
    "# Mostrar información\n",
    "print(ddsm.columns)\n",
    "print(ddsm['pathology'].value_counts())\n",
    "print(ddsm['breast_density'].value_counts())\n",
    "\n",
    "# Visualizar algunas imágenes\n",
    "plt.figure(figsize=(15, 10))\n",
    "for i, (_, row) in enumerate(df.iloc[:4].iterrows()):\n",
    "    img, dcm = load_dicom_image(row['image_path'])\n",
    "    if img is not None:\n",
    "        plt.subplot(2, 2, i+1)\n",
    "        plt.imshow(img, cmap='gray')\n",
    "        plt.title(f\"Patología: {row['pathology']}\\nDensidad: {row['breast_density']}\")\n",
    "        plt.axis('off')\n",
    "plt.tight_layout()\n",
    "plt.show()"
   ]
  },
  {
   "cell_type": "code",
   "execution_count": 5,
   "metadata": {},
   "outputs": [],
   "source": [
    "def load_combined_datasets(cbis_base_dir, cbis_csv, mias_base_dir, mias_info):\n",
    "    \"\"\"\n",
    "    Carga y unifica CBIS-DDSM y MIAS en un único DataFrame.\n",
    "    \n",
    "    Returns:\n",
    "        df_combined: DataFrame con metadatos de ambos datasets\n",
    "    \"\"\"\n",
    "    # Cargar CBIS-DDSM\n",
    "    df_cbis = load_cbis_ddsm(cbis_base_dir, cbis_csv)\n",
    "    df_cbis['dataset'] = 'CBIS-DDSM'\n",
    "    \n",
    "    # Añadir etiqueta binaria\n",
    "    df_cbis['binary_label'] = df_cbis['pathology'].apply(\n",
    "        lambda x: 1 if x == 'MALIGNANT' else 0\n",
    "    )\n",
    "    \n",
    "    # Cargar MIAS\n",
    "    df_mias = load_mias_dataset(mias_base_dir, mias_info)\n",
    "    df_mias['dataset'] = 'MIAS'\n",
    "    \n",
    "    # Añadir etiqueta binaria\n",
    "    df_mias['binary_label'] = df_mias['severity_name'].apply(\n",
    "        lambda x: 1 if x == 'Malignant' else 0\n",
    "    )\n",
    "    \n",
    "    # Seleccionar columnas comunes\n",
    "    df_cbis_selected = df_cbis[['image_path', 'dataset', 'binary_label']]\n",
    "    df_mias_selected = df_mias[['image_path', 'dataset', 'binary_label']]\n",
    "    \n",
    "    # Combinar datasets\n",
    "    df_combined = pd.concat([df_cbis_selected, df_mias_selected], ignore_index=True)\n",
    "    \n",
    "    print(f\"Dataset combinado: {len(df_combined)} imágenes\")\n",
    "    print(f\"CBIS-DDSM: {len(df_cbis)} imágenes\")\n",
    "    print(f\"MIAS: {len(df_mias)} imágenes\")\n",
    "    print(f\"Distribución de etiquetas: {df_combined['binary_label'].value_counts()}\")\n",
    "    \n",
    "    return df_combined\n",
    "\n",
    "def load_and_preprocess_image(path, target_size=(224, 224)):\n",
    "    \"\"\"\n",
    "    Carga y preprocesa una imagen independiente del formato.\n",
    "    \"\"\"\n",
    "    try:\n",
    "        if path.lower().endswith('.dcm'):\n",
    "            # Cargar DICOM\n",
    "            dcm = pydicom.dcmread(path)\n",
    "            img = dcm.pixel_array\n",
    "        else:\n",
    "            # Cargar otros formatos con PIL\n",
    "            img = np.array(Image.open(path))\n",
    "        \n",
    "        # Convertir a 3 canales si es escala de grises\n",
    "        if len(img.shape) == 2:\n",
    "            img = np.stack([img] * 3, axis=-1)\n",
    "        \n",
    "        # Redimensionar\n",
    "        img = transform.resize(img, target_size)\n",
    "        \n",
    "        # Normalizar a [0, 1]\n",
    "        img = img / np.max(img)\n",
    "        \n",
    "        return img\n",
    "    except Exception as e:\n",
    "        print(f\"Error cargando {path}: {e}\")\n",
    "        return None"
   ]
  },
  {
   "cell_type": "code",
   "execution_count": 6,
   "metadata": {},
   "outputs": [
    {
     "ename": "NameError",
     "evalue": "name 'load_cbis_ddsm' is not defined",
     "output_type": "error",
     "traceback": [
      "\u001b[0;31m---------------------------------------------------------------------------\u001b[0m",
      "\u001b[0;31mNameError\u001b[0m                                 Traceback (most recent call last)",
      "Cell \u001b[0;32mIn[6], line 8\u001b[0m\n\u001b[1;32m      5\u001b[0m mias_info \u001b[38;5;241m=\u001b[39m \u001b[38;5;124m'\u001b[39m\u001b[38;5;124m/Volumes/Proyecto Hugo/breast-cancer-analysis/datasets/MIAS/Info.txt\u001b[39m\u001b[38;5;124m'\u001b[39m\n\u001b[1;32m      7\u001b[0m \u001b[38;5;66;03m# Cargar dataset combinado\u001b[39;00m\n\u001b[0;32m----> 8\u001b[0m df_combined \u001b[38;5;241m=\u001b[39m \u001b[43mload_combined_datasets\u001b[49m\u001b[43m(\u001b[49m\u001b[43mcbis_base_dir\u001b[49m\u001b[43m,\u001b[49m\u001b[43m \u001b[49m\u001b[43mcbis_csv\u001b[49m\u001b[43m,\u001b[49m\u001b[43m \u001b[49m\u001b[43mmias_base_dir\u001b[49m\u001b[43m,\u001b[49m\u001b[43m \u001b[49m\u001b[43mmias_info\u001b[49m\u001b[43m)\u001b[49m\n\u001b[1;32m     10\u001b[0m \u001b[38;5;66;03m# Visualizar algunas imágenes de ambos datasets\u001b[39;00m\n\u001b[1;32m     11\u001b[0m plt\u001b[38;5;241m.\u001b[39mfigure(figsize\u001b[38;5;241m=\u001b[39m(\u001b[38;5;241m15\u001b[39m, \u001b[38;5;241m10\u001b[39m))\n",
      "Cell \u001b[0;32mIn[5], line 9\u001b[0m, in \u001b[0;36mload_combined_datasets\u001b[0;34m(cbis_base_dir, cbis_csv, mias_base_dir, mias_info)\u001b[0m\n\u001b[1;32m      2\u001b[0m \u001b[38;5;250m\u001b[39m\u001b[38;5;124;03m\"\"\"\u001b[39;00m\n\u001b[1;32m      3\u001b[0m \u001b[38;5;124;03mCarga y unifica CBIS-DDSM y MIAS en un único DataFrame.\u001b[39;00m\n\u001b[1;32m      4\u001b[0m \u001b[38;5;124;03m\u001b[39;00m\n\u001b[1;32m      5\u001b[0m \u001b[38;5;124;03mReturns:\u001b[39;00m\n\u001b[1;32m      6\u001b[0m \u001b[38;5;124;03m    df_combined: DataFrame con metadatos de ambos datasets\u001b[39;00m\n\u001b[1;32m      7\u001b[0m \u001b[38;5;124;03m\"\"\"\u001b[39;00m\n\u001b[1;32m      8\u001b[0m \u001b[38;5;66;03m# Cargar CBIS-DDSM\u001b[39;00m\n\u001b[0;32m----> 9\u001b[0m df_cbis \u001b[38;5;241m=\u001b[39m \u001b[43mload_cbis_ddsm\u001b[49m(cbis_base_dir, cbis_csv)\n\u001b[1;32m     10\u001b[0m df_cbis[\u001b[38;5;124m'\u001b[39m\u001b[38;5;124mdataset\u001b[39m\u001b[38;5;124m'\u001b[39m] \u001b[38;5;241m=\u001b[39m \u001b[38;5;124m'\u001b[39m\u001b[38;5;124mCBIS-DDSM\u001b[39m\u001b[38;5;124m'\u001b[39m\n\u001b[1;32m     12\u001b[0m \u001b[38;5;66;03m# Añadir etiqueta binaria\u001b[39;00m\n",
      "\u001b[0;31mNameError\u001b[0m: name 'load_cbis_ddsm' is not defined"
     ]
    }
   ],
   "source": [
    "# Ejemplo de uso\n",
    "cbis_base_dir = '/Volumes/Proyecto Hugo/breast-cancer-analysis/datasets/CBIS-DDSM'\n",
    "cbis_csv = '/Volumes/Proyecto Hugo/breast-cancer-analysis/datasets/CBIS-DDSM/csv/mass_case_description_train_set.csv'\n",
    "mias_base_dir = '/Volumes/Proyecto Hugo/breast-cancer-analysis/datasets/MIAS'\n",
    "mias_info = '/Volumes/Proyecto Hugo/breast-cancer-analysis/datasets/MIAS/Info.txt'\n",
    "\n",
    "# Cargar dataset combinado\n",
    "df_combined = load_combined_datasets(cbis_base_dir, cbis_csv, mias_base_dir, mias_info)\n",
    "\n",
    "# Visualizar algunas imágenes de ambos datasets\n",
    "plt.figure(figsize=(15, 10))\n",
    "for i, dataset in enumerate(['CBIS-DDSM', 'MIAS']):\n",
    "    # Obtener muestras de cada dataset\n",
    "    df_subset = df_combined[df_combined['dataset'] == dataset].sample(4)\n",
    "    \n",
    "    for j, (_, row) in enumerate(df_subset.iterrows()):\n",
    "        img = load_and_preprocess_image(row['image_path'])\n",
    "        if img is not None:\n",
    "            plt.subplot(2, 4, i*4 + j + 1)\n",
    "            plt.imshow(img)\n",
    "            plt.title(f\"{dataset}\\nLabel: {'Malignant' if row['binary_label'] == 1 else 'Benign'}\")\n",
    "            plt.axis('off')\n",
    "plt.tight_layout()\n",
    "plt.show()"
   ]
  }
 ],
 "metadata": {
  "kernelspec": {
   "display_name": "breast-cancer-multimodal",
   "language": "python",
   "name": "python3"
  },
  "language_info": {
   "codemirror_mode": {
    "name": "ipython",
    "version": 3
   },
   "file_extension": ".py",
   "mimetype": "text/x-python",
   "name": "python",
   "nbconvert_exporter": "python",
   "pygments_lexer": "ipython3",
   "version": "3.9.7"
  }
 },
 "nbformat": 4,
 "nbformat_minor": 2
}
