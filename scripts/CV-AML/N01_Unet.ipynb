{
 "cells": [
  {
   "cell_type": "markdown",
   "metadata": {},
   "source": [
    "# Computer Vision and Advanced Machine Learning area of the project.\n",
    "### Author: Hugo Iglesias Pombo (2025)\n",
    "### NO1: EDA and preprocessing of the datasets"
   ]
  },
  {
   "cell_type": "markdown",
   "metadata": {},
   "source": [
    "### Importations"
   ]
  },
  {
   "cell_type": "markdown",
   "metadata": {},
   "source": [
    "Libraries"
   ]
  },
  {
   "cell_type": "code",
   "execution_count": 33,
   "metadata": {},
   "outputs": [],
   "source": [
    "import os\n",
    "from os import listdir\n",
    "import pandas as pd \n",
    "import numpy as np \n",
    "import matplotlib.pyplot as plt \n",
    "import plotly.express as px\n",
    "import seaborn as sns\n",
    "\n",
    "import cv2\n",
    "from matplotlib.image import imread\n",
    "\n",
    "import tensorflow as tf\n",
    "from tensorflow.keras.utils import to_categorical\n",
    "from tensorflow.keras.preprocessing import image\n",
    "from sklearn.model_selection import train_test_split\n",
    "from sklearn.metrics import confusion_matrix\n",
    "\n",
    "\n",
    "import glob\n",
    "import PIL\n",
    "import random\n",
    "\n",
    "random.seed(100)"
   ]
  },
  {
   "cell_type": "code",
   "execution_count": 34,
   "metadata": {},
   "outputs": [],
   "source": [
    "import warnings\n",
    "warnings.filterwarnings('ignore')"
   ]
  },
  {
   "cell_type": "markdown",
   "metadata": {},
   "source": [
    "Datasets"
   ]
  },
  {
   "cell_type": "code",
   "execution_count": 35,
   "metadata": {},
   "outputs": [],
   "source": [
    "dicom_data = pd.read_csv('/Volumes/Proyecto_Hugo/breast-cancer-analysis/datasets/CBIS-DDSM/csv/dicom_info.csv')\n",
    "image_dir = '/Volumes/Proyecto_Hugo/breast-cancer-analysis/datasets/CBIS-DDSM/jpeg'"
   ]
  },
  {
   "cell_type": "code",
   "execution_count": 36,
   "metadata": {},
   "outputs": [
    {
     "data": {
      "application/vnd.microsoft.datawrangler.viewer.v0+json": {
       "columns": [
        {
         "name": "index",
         "rawType": "int64",
         "type": "integer"
        },
        {
         "name": "file_path",
         "rawType": "object",
         "type": "string"
        },
        {
         "name": "image_path",
         "rawType": "object",
         "type": "string"
        },
        {
         "name": "AccessionNumber",
         "rawType": "float64",
         "type": "float"
        },
        {
         "name": "BitsAllocated",
         "rawType": "int64",
         "type": "integer"
        },
        {
         "name": "BitsStored",
         "rawType": "int64",
         "type": "integer"
        },
        {
         "name": "BodyPartExamined",
         "rawType": "object",
         "type": "string"
        },
        {
         "name": "Columns",
         "rawType": "int64",
         "type": "integer"
        },
        {
         "name": "ContentDate",
         "rawType": "int64",
         "type": "integer"
        },
        {
         "name": "ContentTime",
         "rawType": "float64",
         "type": "float"
        },
        {
         "name": "ConversionType",
         "rawType": "object",
         "type": "string"
        },
        {
         "name": "HighBit",
         "rawType": "int64",
         "type": "integer"
        },
        {
         "name": "InstanceNumber",
         "rawType": "int64",
         "type": "integer"
        },
        {
         "name": "LargestImagePixelValue",
         "rawType": "int64",
         "type": "integer"
        },
        {
         "name": "Laterality",
         "rawType": "object",
         "type": "unknown"
        },
        {
         "name": "Modality",
         "rawType": "object",
         "type": "string"
        },
        {
         "name": "PatientBirthDate",
         "rawType": "float64",
         "type": "float"
        },
        {
         "name": "PatientID",
         "rawType": "object",
         "type": "string"
        },
        {
         "name": "PatientName",
         "rawType": "object",
         "type": "string"
        },
        {
         "name": "PatientOrientation",
         "rawType": "object",
         "type": "string"
        },
        {
         "name": "PatientSex",
         "rawType": "float64",
         "type": "float"
        },
        {
         "name": "PhotometricInterpretation",
         "rawType": "object",
         "type": "string"
        },
        {
         "name": "PixelRepresentation",
         "rawType": "int64",
         "type": "integer"
        },
        {
         "name": "ReferringPhysicianName",
         "rawType": "float64",
         "type": "float"
        },
        {
         "name": "Rows",
         "rawType": "int64",
         "type": "integer"
        },
        {
         "name": "SOPClassUID",
         "rawType": "object",
         "type": "string"
        },
        {
         "name": "SOPInstanceUID",
         "rawType": "object",
         "type": "string"
        },
        {
         "name": "SamplesPerPixel",
         "rawType": "int64",
         "type": "integer"
        },
        {
         "name": "SecondaryCaptureDeviceManufacturer",
         "rawType": "object",
         "type": "string"
        },
        {
         "name": "SecondaryCaptureDeviceManufacturerModelName",
         "rawType": "object",
         "type": "string"
        },
        {
         "name": "SeriesDescription",
         "rawType": "object",
         "type": "unknown"
        },
        {
         "name": "SeriesInstanceUID",
         "rawType": "object",
         "type": "string"
        },
        {
         "name": "SeriesNumber",
         "rawType": "int64",
         "type": "integer"
        },
        {
         "name": "SmallestImagePixelValue",
         "rawType": "int64",
         "type": "integer"
        },
        {
         "name": "SpecificCharacterSet",
         "rawType": "object",
         "type": "string"
        },
        {
         "name": "StudyDate",
         "rawType": "float64",
         "type": "float"
        },
        {
         "name": "StudyID",
         "rawType": "object",
         "type": "string"
        },
        {
         "name": "StudyInstanceUID",
         "rawType": "object",
         "type": "string"
        },
        {
         "name": "StudyTime",
         "rawType": "float64",
         "type": "float"
        }
       ],
       "conversionMethod": "pd.DataFrame",
       "ref": "f4de077c-95a0-4370-ab02-d534663bb8cb",
       "rows": [
        [
         "0",
         "CBIS-DDSM/dicom/1.3.6.1.4.1.9590.100.1.2.129308726812851964007517874181459556304/1-172.dcm",
         "CBIS-DDSM/jpeg/1.3.6.1.4.1.9590.100.1.2.129308726812851964007517874181459556304/1-172.jpg",
         null,
         "16",
         "16",
         "BREAST",
         "351",
         "20160426",
         "131732.685",
         "WSD",
         "15",
         "1",
         "65535",
         "R",
         "MG",
         null,
         "Mass-Training_P_01265_RIGHT_MLO_1",
         "Mass-Training_P_01265_RIGHT_MLO_1",
         "MLO",
         null,
         "MONOCHROME2",
         "0",
         null,
         "289",
         "1.2.840.10008.5.1.4.1.1.7",
         "1.3.6.1.4.1.9590.100.1.2.426380754911844882201419900442081103076",
         "1",
         "MathWorks",
         "MATLAB",
         "cropped images",
         "1.3.6.1.4.1.9590.100.1.2.129308726812851964007517874181459556304",
         "1",
         "23078",
         "ISO_IR 100",
         "20160720.0",
         "DDSM",
         "1.3.6.1.4.1.9590.100.1.2.271867287611061855725036643043149877819",
         "214951.0"
        ],
        [
         "1",
         "CBIS-DDSM/dicom/1.3.6.1.4.1.9590.100.1.2.248386742010678582309005372213277814849/1-249.dcm",
         "CBIS-DDSM/jpeg/1.3.6.1.4.1.9590.100.1.2.248386742010678582309005372213277814849/1-249.jpg",
         null,
         "16",
         "16",
         "BREAST",
         "3526",
         "20160426",
         "143829.101",
         "WSD",
         "15",
         "1",
         "65535",
         "R",
         "MG",
         null,
         "Mass-Training_P_01754_RIGHT_CC",
         "Mass-Training_P_01754_RIGHT_CC",
         "CC",
         null,
         "MONOCHROME2",
         "0",
         null,
         "6256",
         "1.2.840.10008.5.1.4.1.1.7",
         "1.3.6.1.4.1.9590.100.1.2.235715018911442345533339224491594398571",
         "1",
         "MathWorks",
         "MATLAB",
         "full mammogram images",
         "1.3.6.1.4.1.9590.100.1.2.248386742010678582309005372213277814849",
         "1",
         "0",
         "ISO_IR 100",
         "20160720.0",
         "DDSM",
         "1.3.6.1.4.1.9590.100.1.2.161516517311681906612443997862211969669",
         "193426.0"
        ],
        [
         "2",
         "CBIS-DDSM/dicom/1.3.6.1.4.1.9590.100.1.2.267213171011171858918434139331210917771/1-032.dcm",
         "CBIS-DDSM/jpeg/1.3.6.1.4.1.9590.100.1.2.267213171011171858918434139331210917771/1-032.jpg",
         null,
         "16",
         "16",
         "BREAST",
         "1546",
         "20160503",
         "111956.298",
         "WSD",
         "15",
         "1",
         "65535",
         "R",
         "MG",
         null,
         "Calc-Training_P_00232_RIGHT_CC",
         "Calc-Training_P_00232_RIGHT_CC",
         "CC",
         null,
         "MONOCHROME2",
         "0",
         null,
         "4126",
         "1.2.840.10008.5.1.4.1.1.7",
         "1.3.6.1.4.1.9590.100.1.2.212917405611495375422194124032450014293",
         "1",
         "MathWorks",
         "MATLAB",
         "full mammogram images",
         "1.3.6.1.4.1.9590.100.1.2.267213171011171858918434139331210917771",
         "1",
         "0",
         "ISO_IR 100",
         "20160807.0",
         "DDSM",
         "1.3.6.1.4.1.9590.100.1.2.291043622711253836701017460903623585574",
         "161814.0"
        ],
        [
         "3",
         "CBIS-DDSM/dicom/1.3.6.1.4.1.9590.100.1.2.381187369611524586537789902641525311317/1-052.dcm",
         "CBIS-DDSM/jpeg/1.3.6.1.4.1.9590.100.1.2.381187369611524586537789902641525311317/1-052.jpg",
         null,
         "16",
         "16",
         "BREAST",
         "97",
         "20160503",
         "115347.77",
         "WSD",
         "15",
         "1",
         "65535",
         "L",
         "MG",
         null,
         "Calc-Test_P_00562_LEFT_CC_2",
         "Calc-Test_P_00562_LEFT_CC_2",
         "CC",
         null,
         "MONOCHROME2",
         "0",
         null,
         "97",
         "1.2.840.10008.5.1.4.1.1.7",
         "1.3.6.1.4.1.9590.100.1.2.405776661412249467913600188550817314766",
         "1",
         "MathWorks",
         "MATLAB",
         "cropped images",
         "1.3.6.1.4.1.9590.100.1.2.381187369611524586537789902641525311317",
         "1",
         "32298",
         "ISO_IR 100",
         "20170829.0",
         "DDSM",
         "1.3.6.1.4.1.9590.100.1.2.335006093711888937440665960211609580159",
         "180109.0"
        ],
        [
         "4",
         "CBIS-DDSM/dicom/1.3.6.1.4.1.9590.100.1.2.381187369611524586537789902641525311317/2-204.dcm",
         "CBIS-DDSM/jpeg/1.3.6.1.4.1.9590.100.1.2.381187369611524586537789902641525311317/2-204.jpg",
         null,
         "8",
         "8",
         "Left Breast",
         "3104",
         "20160503",
         "115347.77",
         "WSD",
         "7",
         "1",
         "255",
         null,
         "MG",
         null,
         "P_00562_LEFT_CC_2.dcm",
         "P_00562^P_00562",
         "CC",
         null,
         "MONOCHROME2",
         "0",
         null,
         "4560",
         "1.2.840.10008.5.1.4.1.1.7",
         "1.3.6.1.4.1.9590.100.1.2.418434643810489919922754459191670588257",
         "1",
         "MathWorks",
         "MATLAB",
         null,
         "1.3.6.1.4.1.9590.100.1.2.381187369611524586537789902641525311317",
         "1",
         "0",
         "ISO_IR 100",
         null,
         "DDSM",
         "1.3.6.1.4.1.9590.100.1.2.335006093711888937440665960211609580159",
         null
        ]
       ],
       "shape": {
        "columns": 38,
        "rows": 5
       }
      },
      "text/html": [
       "<div>\n",
       "<style scoped>\n",
       "    .dataframe tbody tr th:only-of-type {\n",
       "        vertical-align: middle;\n",
       "    }\n",
       "\n",
       "    .dataframe tbody tr th {\n",
       "        vertical-align: top;\n",
       "    }\n",
       "\n",
       "    .dataframe thead th {\n",
       "        text-align: right;\n",
       "    }\n",
       "</style>\n",
       "<table border=\"1\" class=\"dataframe\">\n",
       "  <thead>\n",
       "    <tr style=\"text-align: right;\">\n",
       "      <th></th>\n",
       "      <th>file_path</th>\n",
       "      <th>image_path</th>\n",
       "      <th>AccessionNumber</th>\n",
       "      <th>BitsAllocated</th>\n",
       "      <th>BitsStored</th>\n",
       "      <th>BodyPartExamined</th>\n",
       "      <th>Columns</th>\n",
       "      <th>ContentDate</th>\n",
       "      <th>ContentTime</th>\n",
       "      <th>ConversionType</th>\n",
       "      <th>...</th>\n",
       "      <th>SecondaryCaptureDeviceManufacturerModelName</th>\n",
       "      <th>SeriesDescription</th>\n",
       "      <th>SeriesInstanceUID</th>\n",
       "      <th>SeriesNumber</th>\n",
       "      <th>SmallestImagePixelValue</th>\n",
       "      <th>SpecificCharacterSet</th>\n",
       "      <th>StudyDate</th>\n",
       "      <th>StudyID</th>\n",
       "      <th>StudyInstanceUID</th>\n",
       "      <th>StudyTime</th>\n",
       "    </tr>\n",
       "  </thead>\n",
       "  <tbody>\n",
       "    <tr>\n",
       "      <th>0</th>\n",
       "      <td>CBIS-DDSM/dicom/1.3.6.1.4.1.9590.100.1.2.12930...</td>\n",
       "      <td>CBIS-DDSM/jpeg/1.3.6.1.4.1.9590.100.1.2.129308...</td>\n",
       "      <td>NaN</td>\n",
       "      <td>16</td>\n",
       "      <td>16</td>\n",
       "      <td>BREAST</td>\n",
       "      <td>351</td>\n",
       "      <td>20160426</td>\n",
       "      <td>131732.685</td>\n",
       "      <td>WSD</td>\n",
       "      <td>...</td>\n",
       "      <td>MATLAB</td>\n",
       "      <td>cropped images</td>\n",
       "      <td>1.3.6.1.4.1.9590.100.1.2.129308726812851964007...</td>\n",
       "      <td>1</td>\n",
       "      <td>23078</td>\n",
       "      <td>ISO_IR 100</td>\n",
       "      <td>20160720.0</td>\n",
       "      <td>DDSM</td>\n",
       "      <td>1.3.6.1.4.1.9590.100.1.2.271867287611061855725...</td>\n",
       "      <td>214951.0</td>\n",
       "    </tr>\n",
       "    <tr>\n",
       "      <th>1</th>\n",
       "      <td>CBIS-DDSM/dicom/1.3.6.1.4.1.9590.100.1.2.24838...</td>\n",
       "      <td>CBIS-DDSM/jpeg/1.3.6.1.4.1.9590.100.1.2.248386...</td>\n",
       "      <td>NaN</td>\n",
       "      <td>16</td>\n",
       "      <td>16</td>\n",
       "      <td>BREAST</td>\n",
       "      <td>3526</td>\n",
       "      <td>20160426</td>\n",
       "      <td>143829.101</td>\n",
       "      <td>WSD</td>\n",
       "      <td>...</td>\n",
       "      <td>MATLAB</td>\n",
       "      <td>full mammogram images</td>\n",
       "      <td>1.3.6.1.4.1.9590.100.1.2.248386742010678582309...</td>\n",
       "      <td>1</td>\n",
       "      <td>0</td>\n",
       "      <td>ISO_IR 100</td>\n",
       "      <td>20160720.0</td>\n",
       "      <td>DDSM</td>\n",
       "      <td>1.3.6.1.4.1.9590.100.1.2.161516517311681906612...</td>\n",
       "      <td>193426.0</td>\n",
       "    </tr>\n",
       "    <tr>\n",
       "      <th>2</th>\n",
       "      <td>CBIS-DDSM/dicom/1.3.6.1.4.1.9590.100.1.2.26721...</td>\n",
       "      <td>CBIS-DDSM/jpeg/1.3.6.1.4.1.9590.100.1.2.267213...</td>\n",
       "      <td>NaN</td>\n",
       "      <td>16</td>\n",
       "      <td>16</td>\n",
       "      <td>BREAST</td>\n",
       "      <td>1546</td>\n",
       "      <td>20160503</td>\n",
       "      <td>111956.298</td>\n",
       "      <td>WSD</td>\n",
       "      <td>...</td>\n",
       "      <td>MATLAB</td>\n",
       "      <td>full mammogram images</td>\n",
       "      <td>1.3.6.1.4.1.9590.100.1.2.267213171011171858918...</td>\n",
       "      <td>1</td>\n",
       "      <td>0</td>\n",
       "      <td>ISO_IR 100</td>\n",
       "      <td>20160807.0</td>\n",
       "      <td>DDSM</td>\n",
       "      <td>1.3.6.1.4.1.9590.100.1.2.291043622711253836701...</td>\n",
       "      <td>161814.0</td>\n",
       "    </tr>\n",
       "    <tr>\n",
       "      <th>3</th>\n",
       "      <td>CBIS-DDSM/dicom/1.3.6.1.4.1.9590.100.1.2.38118...</td>\n",
       "      <td>CBIS-DDSM/jpeg/1.3.6.1.4.1.9590.100.1.2.381187...</td>\n",
       "      <td>NaN</td>\n",
       "      <td>16</td>\n",
       "      <td>16</td>\n",
       "      <td>BREAST</td>\n",
       "      <td>97</td>\n",
       "      <td>20160503</td>\n",
       "      <td>115347.770</td>\n",
       "      <td>WSD</td>\n",
       "      <td>...</td>\n",
       "      <td>MATLAB</td>\n",
       "      <td>cropped images</td>\n",
       "      <td>1.3.6.1.4.1.9590.100.1.2.381187369611524586537...</td>\n",
       "      <td>1</td>\n",
       "      <td>32298</td>\n",
       "      <td>ISO_IR 100</td>\n",
       "      <td>20170829.0</td>\n",
       "      <td>DDSM</td>\n",
       "      <td>1.3.6.1.4.1.9590.100.1.2.335006093711888937440...</td>\n",
       "      <td>180109.0</td>\n",
       "    </tr>\n",
       "    <tr>\n",
       "      <th>4</th>\n",
       "      <td>CBIS-DDSM/dicom/1.3.6.1.4.1.9590.100.1.2.38118...</td>\n",
       "      <td>CBIS-DDSM/jpeg/1.3.6.1.4.1.9590.100.1.2.381187...</td>\n",
       "      <td>NaN</td>\n",
       "      <td>8</td>\n",
       "      <td>8</td>\n",
       "      <td>Left Breast</td>\n",
       "      <td>3104</td>\n",
       "      <td>20160503</td>\n",
       "      <td>115347.770</td>\n",
       "      <td>WSD</td>\n",
       "      <td>...</td>\n",
       "      <td>MATLAB</td>\n",
       "      <td>NaN</td>\n",
       "      <td>1.3.6.1.4.1.9590.100.1.2.381187369611524586537...</td>\n",
       "      <td>1</td>\n",
       "      <td>0</td>\n",
       "      <td>ISO_IR 100</td>\n",
       "      <td>NaN</td>\n",
       "      <td>DDSM</td>\n",
       "      <td>1.3.6.1.4.1.9590.100.1.2.335006093711888937440...</td>\n",
       "      <td>NaN</td>\n",
       "    </tr>\n",
       "  </tbody>\n",
       "</table>\n",
       "<p>5 rows × 38 columns</p>\n",
       "</div>"
      ],
      "text/plain": [
       "                                           file_path  \\\n",
       "0  CBIS-DDSM/dicom/1.3.6.1.4.1.9590.100.1.2.12930...   \n",
       "1  CBIS-DDSM/dicom/1.3.6.1.4.1.9590.100.1.2.24838...   \n",
       "2  CBIS-DDSM/dicom/1.3.6.1.4.1.9590.100.1.2.26721...   \n",
       "3  CBIS-DDSM/dicom/1.3.6.1.4.1.9590.100.1.2.38118...   \n",
       "4  CBIS-DDSM/dicom/1.3.6.1.4.1.9590.100.1.2.38118...   \n",
       "\n",
       "                                          image_path  AccessionNumber  \\\n",
       "0  CBIS-DDSM/jpeg/1.3.6.1.4.1.9590.100.1.2.129308...              NaN   \n",
       "1  CBIS-DDSM/jpeg/1.3.6.1.4.1.9590.100.1.2.248386...              NaN   \n",
       "2  CBIS-DDSM/jpeg/1.3.6.1.4.1.9590.100.1.2.267213...              NaN   \n",
       "3  CBIS-DDSM/jpeg/1.3.6.1.4.1.9590.100.1.2.381187...              NaN   \n",
       "4  CBIS-DDSM/jpeg/1.3.6.1.4.1.9590.100.1.2.381187...              NaN   \n",
       "\n",
       "   BitsAllocated  BitsStored BodyPartExamined  Columns  ContentDate  \\\n",
       "0             16          16           BREAST      351     20160426   \n",
       "1             16          16           BREAST     3526     20160426   \n",
       "2             16          16           BREAST     1546     20160503   \n",
       "3             16          16           BREAST       97     20160503   \n",
       "4              8           8      Left Breast     3104     20160503   \n",
       "\n",
       "   ContentTime ConversionType  ...  \\\n",
       "0   131732.685            WSD  ...   \n",
       "1   143829.101            WSD  ...   \n",
       "2   111956.298            WSD  ...   \n",
       "3   115347.770            WSD  ...   \n",
       "4   115347.770            WSD  ...   \n",
       "\n",
       "   SecondaryCaptureDeviceManufacturerModelName      SeriesDescription  \\\n",
       "0                                       MATLAB         cropped images   \n",
       "1                                       MATLAB  full mammogram images   \n",
       "2                                       MATLAB  full mammogram images   \n",
       "3                                       MATLAB         cropped images   \n",
       "4                                       MATLAB                    NaN   \n",
       "\n",
       "                                   SeriesInstanceUID SeriesNumber  \\\n",
       "0  1.3.6.1.4.1.9590.100.1.2.129308726812851964007...            1   \n",
       "1  1.3.6.1.4.1.9590.100.1.2.248386742010678582309...            1   \n",
       "2  1.3.6.1.4.1.9590.100.1.2.267213171011171858918...            1   \n",
       "3  1.3.6.1.4.1.9590.100.1.2.381187369611524586537...            1   \n",
       "4  1.3.6.1.4.1.9590.100.1.2.381187369611524586537...            1   \n",
       "\n",
       "  SmallestImagePixelValue  SpecificCharacterSet   StudyDate StudyID  \\\n",
       "0                   23078            ISO_IR 100  20160720.0    DDSM   \n",
       "1                       0            ISO_IR 100  20160720.0    DDSM   \n",
       "2                       0            ISO_IR 100  20160807.0    DDSM   \n",
       "3                   32298            ISO_IR 100  20170829.0    DDSM   \n",
       "4                       0            ISO_IR 100         NaN    DDSM   \n",
       "\n",
       "                                    StudyInstanceUID  StudyTime  \n",
       "0  1.3.6.1.4.1.9590.100.1.2.271867287611061855725...   214951.0  \n",
       "1  1.3.6.1.4.1.9590.100.1.2.161516517311681906612...   193426.0  \n",
       "2  1.3.6.1.4.1.9590.100.1.2.291043622711253836701...   161814.0  \n",
       "3  1.3.6.1.4.1.9590.100.1.2.335006093711888937440...   180109.0  \n",
       "4  1.3.6.1.4.1.9590.100.1.2.335006093711888937440...        NaN  \n",
       "\n",
       "[5 rows x 38 columns]"
      ]
     },
     "execution_count": 36,
     "metadata": {},
     "output_type": "execute_result"
    }
   ],
   "source": [
    "dicom_data.head()"
   ]
  },
  {
   "cell_type": "code",
   "execution_count": 37,
   "metadata": {},
   "outputs": [
    {
     "name": "stdout",
     "output_type": "stream",
     "text": [
      "<class 'pandas.core.frame.DataFrame'>\n",
      "RangeIndex: 10237 entries, 0 to 10236\n",
      "Data columns (total 38 columns):\n",
      " #   Column                                       Non-Null Count  Dtype  \n",
      "---  ------                                       --------------  -----  \n",
      " 0   file_path                                    10237 non-null  object \n",
      " 1   image_path                                   10237 non-null  object \n",
      " 2   AccessionNumber                              0 non-null      float64\n",
      " 3   BitsAllocated                                10237 non-null  int64  \n",
      " 4   BitsStored                                   10237 non-null  int64  \n",
      " 5   BodyPartExamined                             10237 non-null  object \n",
      " 6   Columns                                      10237 non-null  int64  \n",
      " 7   ContentDate                                  10237 non-null  int64  \n",
      " 8   ContentTime                                  10237 non-null  float64\n",
      " 9   ConversionType                               10237 non-null  object \n",
      " 10  HighBit                                      10237 non-null  int64  \n",
      " 11  InstanceNumber                               10237 non-null  int64  \n",
      " 12  LargestImagePixelValue                       10237 non-null  int64  \n",
      " 13  Laterality                                   9671 non-null   object \n",
      " 14  Modality                                     10237 non-null  object \n",
      " 15  PatientBirthDate                             0 non-null      float64\n",
      " 16  PatientID                                    10237 non-null  object \n",
      " 17  PatientName                                  10237 non-null  object \n",
      " 18  PatientOrientation                           10237 non-null  object \n",
      " 19  PatientSex                                   0 non-null      float64\n",
      " 20  PhotometricInterpretation                    10237 non-null  object \n",
      " 21  PixelRepresentation                          10237 non-null  int64  \n",
      " 22  ReferringPhysicianName                       0 non-null      float64\n",
      " 23  Rows                                         10237 non-null  int64  \n",
      " 24  SOPClassUID                                  10237 non-null  object \n",
      " 25  SOPInstanceUID                               10237 non-null  object \n",
      " 26  SamplesPerPixel                              10237 non-null  int64  \n",
      " 27  SecondaryCaptureDeviceManufacturer           10237 non-null  object \n",
      " 28  SecondaryCaptureDeviceManufacturerModelName  10237 non-null  object \n",
      " 29  SeriesDescription                            9671 non-null   object \n",
      " 30  SeriesInstanceUID                            10237 non-null  object \n",
      " 31  SeriesNumber                                 10237 non-null  int64  \n",
      " 32  SmallestImagePixelValue                      10237 non-null  int64  \n",
      " 33  SpecificCharacterSet                         10237 non-null  object \n",
      " 34  StudyDate                                    9671 non-null   float64\n",
      " 35  StudyID                                      10237 non-null  object \n",
      " 36  StudyInstanceUID                             10237 non-null  object \n",
      " 37  StudyTime                                    9671 non-null   float64\n",
      "dtypes: float64(7), int64(12), object(19)\n",
      "memory usage: 3.0+ MB\n"
     ]
    }
   ],
   "source": [
    "dicom_data.info()"
   ]
  },
  {
   "cell_type": "code",
   "execution_count": 38,
   "metadata": {},
   "outputs": [
    {
     "data": {
      "text/plain": [
       "0     CBIS-DDSM/jpeg/1.3.6.1.4.1.9590.100.1.2.129308...\n",
       "3     CBIS-DDSM/jpeg/1.3.6.1.4.1.9590.100.1.2.381187...\n",
       "6     CBIS-DDSM/jpeg/1.3.6.1.4.1.9590.100.1.2.153339...\n",
       "7     CBIS-DDSM/jpeg/1.3.6.1.4.1.9590.100.1.2.178994...\n",
       "10    CBIS-DDSM/jpeg/1.3.6.1.4.1.9590.100.1.2.411833...\n",
       "Name: image_path, dtype: object"
      ]
     },
     "execution_count": 38,
     "metadata": {},
     "output_type": "execute_result"
    }
   ],
   "source": [
    "cropped_images = dicom_data[dicom_data.SeriesDescription == 'cropped images'].image_path\n",
    "cropped_images.head()"
   ]
  },
  {
   "cell_type": "code",
   "execution_count": 39,
   "metadata": {},
   "outputs": [
    {
     "data": {
      "text/plain": [
       "0     /Volumes/Proyecto_Hugo/breast-cancer-analysis/...\n",
       "3     /Volumes/Proyecto_Hugo/breast-cancer-analysis/...\n",
       "6     /Volumes/Proyecto_Hugo/breast-cancer-analysis/...\n",
       "7     /Volumes/Proyecto_Hugo/breast-cancer-analysis/...\n",
       "10    /Volumes/Proyecto_Hugo/breast-cancer-analysis/...\n",
       "Name: image_path, dtype: object"
      ]
     },
     "execution_count": 39,
     "metadata": {},
     "output_type": "execute_result"
    }
   ],
   "source": [
    "cropped_images = cropped_images.apply(lambda x: x.replace('CBIS-DDSM/jpeg', image_dir))\n",
    "cropped_images.head()"
   ]
  },
  {
   "cell_type": "code",
   "execution_count": 40,
   "metadata": {},
   "outputs": [
    {
     "data": {
      "image/png": "[encoded data removed]",
      "text/plain": [
       "<Figure size 640x480 with 1 Axes>"
      ]
     },
     "metadata": {},
     "output_type": "display_data"
    }
   ],
   "source": [
    "for file in cropped_images[0:10]:\n",
    "    cropped_images_show = PIL.Image.open(file)\n",
    "    gray_img= cropped_images_show.convert(\"L\")\n",
    "    plt.imshow(gray_img, cmap='gray')"
   ]
  },
  {
   "cell_type": "code",
   "execution_count": 41,
   "metadata": {},
   "outputs": [
    {
     "data": {
      "text/plain": [
       "1     CBIS-DDSM/jpeg/1.3.6.1.4.1.9590.100.1.2.248386...\n",
       "2     CBIS-DDSM/jpeg/1.3.6.1.4.1.9590.100.1.2.267213...\n",
       "11    CBIS-DDSM/jpeg/1.3.6.1.4.1.9590.100.1.2.210396...\n",
       "12    CBIS-DDSM/jpeg/1.3.6.1.4.1.9590.100.1.2.749566...\n",
       "15    CBIS-DDSM/jpeg/1.3.6.1.4.1.9590.100.1.2.987658...\n",
       "Name: image_path, dtype: object"
      ]
     },
     "execution_count": 41,
     "metadata": {},
     "output_type": "execute_result"
    }
   ],
   "source": [
    "full_mammogram_images = dicom_data[dicom_data.SeriesDescription == 'full mammogram images'].image_path\n",
    "full_mammogram_images.head()"
   ]
  },
  {
   "cell_type": "code",
   "execution_count": 42,
   "metadata": {},
   "outputs": [
    {
     "data": {
      "text/plain": [
       "1     /Volumes/Proyecto_Hugo/breast-cancer-analysis/...\n",
       "2     /Volumes/Proyecto_Hugo/breast-cancer-analysis/...\n",
       "11    /Volumes/Proyecto_Hugo/breast-cancer-analysis/...\n",
       "12    /Volumes/Proyecto_Hugo/breast-cancer-analysis/...\n",
       "15    /Volumes/Proyecto_Hugo/breast-cancer-analysis/...\n",
       "Name: image_path, dtype: object"
      ]
     },
     "execution_count": 42,
     "metadata": {},
     "output_type": "execute_result"
    }
   ],
   "source": [
    "full_mammogram_images = full_mammogram_images.apply(lambda x: x.replace('CBIS-DDSM/jpeg', image_dir))\n",
    "full_mammogram_images.head()"
   ]
  },
  {
   "cell_type": "code",
   "execution_count": 43,
   "metadata": {},
   "outputs": [
    {
     "data": {
      "image/png": "[encoded data removed]",
      "text/plain": [
       "<Figure size 640x480 with 1 Axes>"
      ]
     },
     "metadata": {},
     "output_type": "display_data"
    }
   ],
   "source": [
    "for file in full_mammogram_images[0:10]:\n",
    "    full_mammogram_images_show = PIL.Image.open(file)\n",
    "    gray_img = full_mammogram_images_show.convert(\"L\")\n",
    "    plt.imshow(gray_img, cmap='gray')"
   ]
  },
  {
   "cell_type": "code",
   "execution_count": 44,
   "metadata": {},
   "outputs": [
    {
     "data": {
      "text/plain": [
       "5     CBIS-DDSM/jpeg/1.3.6.1.4.1.9590.100.1.2.153339...\n",
       "8     CBIS-DDSM/jpeg/1.3.6.1.4.1.9590.100.1.2.178994...\n",
       "9     CBIS-DDSM/jpeg/1.3.6.1.4.1.9590.100.1.2.411833...\n",
       "14    CBIS-DDSM/jpeg/1.3.6.1.4.1.9590.100.1.2.236373...\n",
       "20    CBIS-DDSM/jpeg/1.3.6.1.4.1.9590.100.1.2.357008...\n",
       "Name: image_path, dtype: object"
      ]
     },
     "execution_count": 44,
     "metadata": {},
     "output_type": "execute_result"
    }
   ],
   "source": [
    "ROI_mask_images = dicom_data[dicom_data.SeriesDescription == 'ROI mask images'].image_path\n",
    "ROI_mask_images.head()"
   ]
  },
  {
   "cell_type": "code",
   "execution_count": 45,
   "metadata": {},
   "outputs": [
    {
     "data": {
      "text/plain": [
       "5     /Volumes/Proyecto_Hugo/breast-cancer-analysis/...\n",
       "8     /Volumes/Proyecto_Hugo/breast-cancer-analysis/...\n",
       "9     /Volumes/Proyecto_Hugo/breast-cancer-analysis/...\n",
       "14    /Volumes/Proyecto_Hugo/breast-cancer-analysis/...\n",
       "20    /Volumes/Proyecto_Hugo/breast-cancer-analysis/...\n",
       "Name: image_path, dtype: object"
      ]
     },
     "execution_count": 45,
     "metadata": {},
     "output_type": "execute_result"
    }
   ],
   "source": [
    "ROI_mask_images = ROI_mask_images.apply(lambda x: x.replace('CBIS-DDSM/jpeg', image_dir))\n",
    "ROI_mask_images.head()"
   ]
  },
  {
   "cell_type": "code",
   "execution_count": 46,
   "metadata": {},
   "outputs": [
    {
     "data": {
      "image/png": "[encoded data removed]",
      "text/plain": [
       "<Figure size 640x480 with 1 Axes>"
      ]
     },
     "metadata": {},
     "output_type": "display_data"
    }
   ],
   "source": [
    "for file in ROI_mask_images[0:10]:\n",
    "    ROI_mask_images_show = PIL.Image.open(file)\n",
    "    gray_img = ROI_mask_images_show.convert(\"L\")\n",
    "    plt.imshow(gray_img, cmap='gray')"
   ]
  },
  {
   "cell_type": "code",
   "execution_count": 47,
   "metadata": {},
   "outputs": [],
   "source": [
    "calc_case_df = pd.read_csv('/Volumes/Proyecto_Hugo/breast-cancer-analysis/datasets/CBIS-DDSM/csv/calc_case_description_train_set.csv')"
   ]
  },
  {
   "cell_type": "code",
   "execution_count": 48,
   "metadata": {},
   "outputs": [
    {
     "data": {
      "application/vnd.microsoft.datawrangler.viewer.v0+json": {
       "columns": [
        {
         "name": "index",
         "rawType": "int64",
         "type": "integer"
        },
        {
         "name": "patient_id",
         "rawType": "object",
         "type": "string"
        },
        {
         "name": "breast density",
         "rawType": "int64",
         "type": "integer"
        },
        {
         "name": "left or right breast",
         "rawType": "object",
         "type": "string"
        },
        {
         "name": "image view",
         "rawType": "object",
         "type": "string"
        },
        {
         "name": "abnormality id",
         "rawType": "int64",
         "type": "integer"
        },
        {
         "name": "abnormality type",
         "rawType": "object",
         "type": "string"
        },
        {
         "name": "calc type",
         "rawType": "object",
         "type": "unknown"
        },
        {
         "name": "calc distribution",
         "rawType": "object",
         "type": "string"
        },
        {
         "name": "assessment",
         "rawType": "int64",
         "type": "integer"
        },
        {
         "name": "pathology",
         "rawType": "object",
         "type": "string"
        },
        {
         "name": "subtlety",
         "rawType": "int64",
         "type": "integer"
        },
        {
         "name": "image file path",
         "rawType": "object",
         "type": "string"
        },
        {
         "name": "cropped image file path",
         "rawType": "object",
         "type": "string"
        },
        {
         "name": "ROI mask file path",
         "rawType": "object",
         "type": "string"
        }
       ],
       "conversionMethod": "pd.DataFrame",
       "ref": "6dd72413-1e1f-4e8d-aa73-efeee6c720e8",
       "rows": [
        [
         "0",
         "P_00005",
         "3",
         "RIGHT",
         "CC",
         "1",
         "calcification",
         "AMORPHOUS",
         "CLUSTERED",
         "3",
         "MALIGNANT",
         "3",
         "Calc-Training_P_00005_RIGHT_CC/1.3.6.1.4.1.9590.100.1.2.408909860712120272633130274602115723157/1.3.6.1.4.1.9590.100.1.2.47414316010368386519740343172775938548/000000.dcm",
         "Calc-Training_P_00005_RIGHT_CC_1/1.3.6.1.4.1.9590.100.1.2.328778919012412769218080124214088709081/1.3.6.1.4.1.9590.100.1.2.393344010211719049419601138200355094682/000001.dcm\n",
         "Calc-Training_P_00005_RIGHT_CC_1/1.3.6.1.4.1.9590.100.1.2.328778919012412769218080124214088709081/1.3.6.1.4.1.9590.100.1.2.393344010211719049419601138200355094682/000000.dcm"
        ],
        [
         "1",
         "P_00005",
         "3",
         "RIGHT",
         "MLO",
         "1",
         "calcification",
         "AMORPHOUS",
         "CLUSTERED",
         "3",
         "MALIGNANT",
         "3",
         "Calc-Training_P_00005_RIGHT_MLO/1.3.6.1.4.1.9590.100.1.2.427517897311902339923511678883689433338/1.3.6.1.4.1.9590.100.1.2.250596608311207922527805669693579696727/000000.dcm",
         "Calc-Training_P_00005_RIGHT_MLO_1/1.3.6.1.4.1.9590.100.1.2.67512362210319636108148504382680781938/1.3.6.1.4.1.9590.100.1.2.296281207812130400303493285473798422894/000001.dcm\n",
         "Calc-Training_P_00005_RIGHT_MLO_1/1.3.6.1.4.1.9590.100.1.2.67512362210319636108148504382680781938/1.3.6.1.4.1.9590.100.1.2.296281207812130400303493285473798422894/000000.dcm"
        ],
        [
         "2",
         "P_00007",
         "4",
         "LEFT",
         "CC",
         "1",
         "calcification",
         "PLEOMORPHIC",
         "LINEAR",
         "4",
         "BENIGN",
         "4",
         "Calc-Training_P_00007_LEFT_CC/1.3.6.1.4.1.9590.100.1.2.201322325113694962619881476352450072222/1.3.6.1.4.1.9590.100.1.2.228699627313487111012474405462022068297/000000.dcm",
         "Calc-Training_P_00007_LEFT_CC_1/1.3.6.1.4.1.9590.100.1.2.241202057913673145232234613012384759880/1.3.6.1.4.1.9590.100.1.2.314135871111943890422150247820137952041/000001.dcm\n",
         "Calc-Training_P_00007_LEFT_CC_1/1.3.6.1.4.1.9590.100.1.2.241202057913673145232234613012384759880/1.3.6.1.4.1.9590.100.1.2.314135871111943890422150247820137952041/000000.dcm"
        ],
        [
         "3",
         "P_00007",
         "4",
         "LEFT",
         "MLO",
         "1",
         "calcification",
         "PLEOMORPHIC",
         "LINEAR",
         "4",
         "BENIGN",
         "4",
         "Calc-Training_P_00007_LEFT_MLO/1.3.6.1.4.1.9590.100.1.2.370479499712916693322010643793108454887/1.3.6.1.4.1.9590.100.1.2.104743410411133110629448544090466900446/000000.dcm",
         "Calc-Training_P_00007_LEFT_MLO_1/1.3.6.1.4.1.9590.100.1.2.314250272911170289203882349024229868823/1.3.6.1.4.1.9590.100.1.2.91458279612485515203413781822560852485/000001.dcm\n",
         "Calc-Training_P_00007_LEFT_MLO_1/1.3.6.1.4.1.9590.100.1.2.314250272911170289203882349024229868823/1.3.6.1.4.1.9590.100.1.2.91458279612485515203413781822560852485/000000.dcm"
        ],
        [
         "4",
         "P_00008",
         "1",
         "LEFT",
         "CC",
         "1",
         "calcification",
         null,
         "REGIONAL",
         "2",
         "BENIGN_WITHOUT_CALLBACK",
         "3",
         "Calc-Training_P_00008_LEFT_CC/1.3.6.1.4.1.9590.100.1.2.162256682111885666305889708873412464189/1.3.6.1.4.1.9590.100.1.2.406725628213826290127343763811145520834/000000.dcm",
         "Calc-Training_P_00008_LEFT_CC_1/1.3.6.1.4.1.9590.100.1.2.336811694512764490002272925921108351157/1.3.6.1.4.1.9590.100.1.2.281397494612871934937455783843630775495/000001.dcm\n",
         "Calc-Training_P_00008_LEFT_CC_1/1.3.6.1.4.1.9590.100.1.2.336811694512764490002272925921108351157/1.3.6.1.4.1.9590.100.1.2.281397494612871934937455783843630775495/000000.dcm"
        ]
       ],
       "shape": {
        "columns": 14,
        "rows": 5
       }
      },
      "text/html": [
       "<div>\n",
       "<style scoped>\n",
       "    .dataframe tbody tr th:only-of-type {\n",
       "        vertical-align: middle;\n",
       "    }\n",
       "\n",
       "    .dataframe tbody tr th {\n",
       "        vertical-align: top;\n",
       "    }\n",
       "\n",
       "    .dataframe thead th {\n",
       "        text-align: right;\n",
       "    }\n",
       "</style>\n",
       "<table border=\"1\" class=\"dataframe\">\n",
       "  <thead>\n",
       "    <tr style=\"text-align: right;\">\n",
       "      <th></th>\n",
       "      <th>patient_id</th>\n",
       "      <th>breast density</th>\n",
       "      <th>left or right breast</th>\n",
       "      <th>image view</th>\n",
       "      <th>abnormality id</th>\n",
       "      <th>abnormality type</th>\n",
       "      <th>calc type</th>\n",
       "      <th>calc distribution</th>\n",
       "      <th>assessment</th>\n",
       "      <th>pathology</th>\n",
       "      <th>subtlety</th>\n",
       "      <th>image file path</th>\n",
       "      <th>cropped image file path</th>\n",
       "      <th>ROI mask file path</th>\n",
       "    </tr>\n",
       "  </thead>\n",
       "  <tbody>\n",
       "    <tr>\n",
       "      <th>0</th>\n",
       "      <td>P_00005</td>\n",
       "      <td>3</td>\n",
       "      <td>RIGHT</td>\n",
       "      <td>CC</td>\n",
       "      <td>1</td>\n",
       "      <td>calcification</td>\n",
       "      <td>AMORPHOUS</td>\n",
       "      <td>CLUSTERED</td>\n",
       "      <td>3</td>\n",
       "      <td>MALIGNANT</td>\n",
       "      <td>3</td>\n",
       "      <td>Calc-Training_P_00005_RIGHT_CC/1.3.6.1.4.1.959...</td>\n",
       "      <td>Calc-Training_P_00005_RIGHT_CC_1/1.3.6.1.4.1.9...</td>\n",
       "      <td>Calc-Training_P_00005_RIGHT_CC_1/1.3.6.1.4.1.9...</td>\n",
       "    </tr>\n",
       "    <tr>\n",
       "      <th>1</th>\n",
       "      <td>P_00005</td>\n",
       "      <td>3</td>\n",
       "      <td>RIGHT</td>\n",
       "      <td>MLO</td>\n",
       "      <td>1</td>\n",
       "      <td>calcification</td>\n",
       "      <td>AMORPHOUS</td>\n",
       "      <td>CLUSTERED</td>\n",
       "      <td>3</td>\n",
       "      <td>MALIGNANT</td>\n",
       "      <td>3</td>\n",
       "      <td>Calc-Training_P_00005_RIGHT_MLO/1.3.6.1.4.1.95...</td>\n",
       "      <td>Calc-Training_P_00005_RIGHT_MLO_1/1.3.6.1.4.1....</td>\n",
       "      <td>Calc-Training_P_00005_RIGHT_MLO_1/1.3.6.1.4.1....</td>\n",
       "    </tr>\n",
       "    <tr>\n",
       "      <th>2</th>\n",
       "      <td>P_00007</td>\n",
       "      <td>4</td>\n",
       "      <td>LEFT</td>\n",
       "      <td>CC</td>\n",
       "      <td>1</td>\n",
       "      <td>calcification</td>\n",
       "      <td>PLEOMORPHIC</td>\n",
       "      <td>LINEAR</td>\n",
       "      <td>4</td>\n",
       "      <td>BENIGN</td>\n",
       "      <td>4</td>\n",
       "      <td>Calc-Training_P_00007_LEFT_CC/1.3.6.1.4.1.9590...</td>\n",
       "      <td>Calc-Training_P_00007_LEFT_CC_1/1.3.6.1.4.1.95...</td>\n",
       "      <td>Calc-Training_P_00007_LEFT_CC_1/1.3.6.1.4.1.95...</td>\n",
       "    </tr>\n",
       "    <tr>\n",
       "      <th>3</th>\n",
       "      <td>P_00007</td>\n",
       "      <td>4</td>\n",
       "      <td>LEFT</td>\n",
       "      <td>MLO</td>\n",
       "      <td>1</td>\n",
       "      <td>calcification</td>\n",
       "      <td>PLEOMORPHIC</td>\n",
       "      <td>LINEAR</td>\n",
       "      <td>4</td>\n",
       "      <td>BENIGN</td>\n",
       "      <td>4</td>\n",
       "      <td>Calc-Training_P_00007_LEFT_MLO/1.3.6.1.4.1.959...</td>\n",
       "      <td>Calc-Training_P_00007_LEFT_MLO_1/1.3.6.1.4.1.9...</td>\n",
       "      <td>Calc-Training_P_00007_LEFT_MLO_1/1.3.6.1.4.1.9...</td>\n",
       "    </tr>\n",
       "    <tr>\n",
       "      <th>4</th>\n",
       "      <td>P_00008</td>\n",
       "      <td>1</td>\n",
       "      <td>LEFT</td>\n",
       "      <td>CC</td>\n",
       "      <td>1</td>\n",
       "      <td>calcification</td>\n",
       "      <td>NaN</td>\n",
       "      <td>REGIONAL</td>\n",
       "      <td>2</td>\n",
       "      <td>BENIGN_WITHOUT_CALLBACK</td>\n",
       "      <td>3</td>\n",
       "      <td>Calc-Training_P_00008_LEFT_CC/1.3.6.1.4.1.9590...</td>\n",
       "      <td>Calc-Training_P_00008_LEFT_CC_1/1.3.6.1.4.1.95...</td>\n",
       "      <td>Calc-Training_P_00008_LEFT_CC_1/1.3.6.1.4.1.95...</td>\n",
       "    </tr>\n",
       "  </tbody>\n",
       "</table>\n",
       "</div>"
      ],
      "text/plain": [
       "  patient_id  breast density left or right breast image view  abnormality id  \\\n",
       "0    P_00005               3                RIGHT         CC               1   \n",
       "1    P_00005               3                RIGHT        MLO               1   \n",
       "2    P_00007               4                 LEFT         CC               1   \n",
       "3    P_00007               4                 LEFT        MLO               1   \n",
       "4    P_00008               1                 LEFT         CC               1   \n",
       "\n",
       "  abnormality type    calc type calc distribution  assessment  \\\n",
       "0    calcification    AMORPHOUS         CLUSTERED           3   \n",
       "1    calcification    AMORPHOUS         CLUSTERED           3   \n",
       "2    calcification  PLEOMORPHIC            LINEAR           4   \n",
       "3    calcification  PLEOMORPHIC            LINEAR           4   \n",
       "4    calcification          NaN          REGIONAL           2   \n",
       "\n",
       "                 pathology  subtlety  \\\n",
       "0                MALIGNANT         3   \n",
       "1                MALIGNANT         3   \n",
       "2                   BENIGN         4   \n",
       "3                   BENIGN         4   \n",
       "4  BENIGN_WITHOUT_CALLBACK         3   \n",
       "\n",
       "                                     image file path  \\\n",
       "0  Calc-Training_P_00005_RIGHT_CC/1.3.6.1.4.1.959...   \n",
       "1  Calc-Training_P_00005_RIGHT_MLO/1.3.6.1.4.1.95...   \n",
       "2  Calc-Training_P_00007_LEFT_CC/1.3.6.1.4.1.9590...   \n",
       "3  Calc-Training_P_00007_LEFT_MLO/1.3.6.1.4.1.959...   \n",
       "4  Calc-Training_P_00008_LEFT_CC/1.3.6.1.4.1.9590...   \n",
       "\n",
       "                             cropped image file path  \\\n",
       "0  Calc-Training_P_00005_RIGHT_CC_1/1.3.6.1.4.1.9...   \n",
       "1  Calc-Training_P_00005_RIGHT_MLO_1/1.3.6.1.4.1....   \n",
       "2  Calc-Training_P_00007_LEFT_CC_1/1.3.6.1.4.1.95...   \n",
       "3  Calc-Training_P_00007_LEFT_MLO_1/1.3.6.1.4.1.9...   \n",
       "4  Calc-Training_P_00008_LEFT_CC_1/1.3.6.1.4.1.95...   \n",
       "\n",
       "                                  ROI mask file path  \n",
       "0  Calc-Training_P_00005_RIGHT_CC_1/1.3.6.1.4.1.9...  \n",
       "1  Calc-Training_P_00005_RIGHT_MLO_1/1.3.6.1.4.1....  \n",
       "2  Calc-Training_P_00007_LEFT_CC_1/1.3.6.1.4.1.95...  \n",
       "3  Calc-Training_P_00007_LEFT_MLO_1/1.3.6.1.4.1.9...  \n",
       "4  Calc-Training_P_00008_LEFT_CC_1/1.3.6.1.4.1.95...  "
      ]
     },
     "execution_count": 48,
     "metadata": {},
     "output_type": "execute_result"
    }
   ],
   "source": [
    "calc_case_df.head(5)"
   ]
  },
  {
   "cell_type": "code",
   "execution_count": 49,
   "metadata": {},
   "outputs": [],
   "source": [
    "mass_case_df = pd.read_csv('/Volumes/Proyecto_Hugo/breast-cancer-analysis/datasets/CBIS-DDSM/csv/mass_case_description_train_set.csv')"
   ]
  },
  {
   "cell_type": "code",
   "execution_count": 50,
   "metadata": {},
   "outputs": [
    {
     "data": {
      "application/vnd.microsoft.datawrangler.viewer.v0+json": {
       "columns": [
        {
         "name": "index",
         "rawType": "int64",
         "type": "integer"
        },
        {
         "name": "patient_id",
         "rawType": "object",
         "type": "string"
        },
        {
         "name": "breast_density",
         "rawType": "int64",
         "type": "integer"
        },
        {
         "name": "left or right breast",
         "rawType": "object",
         "type": "string"
        },
        {
         "name": "image view",
         "rawType": "object",
         "type": "string"
        },
        {
         "name": "abnormality id",
         "rawType": "int64",
         "type": "integer"
        },
        {
         "name": "abnormality type",
         "rawType": "object",
         "type": "string"
        },
        {
         "name": "mass shape",
         "rawType": "object",
         "type": "string"
        },
        {
         "name": "mass margins",
         "rawType": "object",
         "type": "string"
        },
        {
         "name": "assessment",
         "rawType": "int64",
         "type": "integer"
        },
        {
         "name": "pathology",
         "rawType": "object",
         "type": "string"
        },
        {
         "name": "subtlety",
         "rawType": "int64",
         "type": "integer"
        },
        {
         "name": "image file path",
         "rawType": "object",
         "type": "string"
        },
        {
         "name": "cropped image file path",
         "rawType": "object",
         "type": "string"
        },
        {
         "name": "ROI mask file path",
         "rawType": "object",
         "type": "string"
        }
       ],
       "conversionMethod": "pd.DataFrame",
       "ref": "9e4ec13c-a4a1-44c8-aeaf-ad5a96a4de15",
       "rows": [
        [
         "0",
         "P_00001",
         "3",
         "LEFT",
         "CC",
         "1",
         "mass",
         "IRREGULAR-ARCHITECTURAL_DISTORTION",
         "SPICULATED",
         "4",
         "MALIGNANT",
         "4",
         "Mass-Training_P_00001_LEFT_CC/1.3.6.1.4.1.9590.100.1.2.422112722213189649807611434612228974994/1.3.6.1.4.1.9590.100.1.2.342386194811267636608694132590482924515/000000.dcm",
         "Mass-Training_P_00001_LEFT_CC_1/1.3.6.1.4.1.9590.100.1.2.108268213011361124203859148071588939106/1.3.6.1.4.1.9590.100.1.2.296736403313792599626368780122205399650/000000.dcm",
         "Mass-Training_P_00001_LEFT_CC_1/1.3.6.1.4.1.9590.100.1.2.108268213011361124203859148071588939106/1.3.6.1.4.1.9590.100.1.2.296736403313792599626368780122205399650/000001.dcm\n"
        ],
        [
         "1",
         "P_00001",
         "3",
         "LEFT",
         "MLO",
         "1",
         "mass",
         "IRREGULAR-ARCHITECTURAL_DISTORTION",
         "SPICULATED",
         "4",
         "MALIGNANT",
         "4",
         "Mass-Training_P_00001_LEFT_MLO/1.3.6.1.4.1.9590.100.1.2.319478999311971442426185353560182990988/1.3.6.1.4.1.9590.100.1.2.359308329312397897125630708681441180834/000000.dcm",
         "Mass-Training_P_00001_LEFT_MLO_1/1.3.6.1.4.1.9590.100.1.2.188473874511440575807446266233629582526/1.3.6.1.4.1.9590.100.1.2.227955274711225756835838775062793186053/000000.dcm",
         "Mass-Training_P_00001_LEFT_MLO_1/1.3.6.1.4.1.9590.100.1.2.188473874511440575807446266233629582526/1.3.6.1.4.1.9590.100.1.2.227955274711225756835838775062793186053/000001.dcm\n"
        ],
        [
         "2",
         "P_00004",
         "3",
         "LEFT",
         "CC",
         "1",
         "mass",
         "ARCHITECTURAL_DISTORTION",
         "ILL_DEFINED",
         "4",
         "BENIGN",
         "3",
         "Mass-Training_P_00004_LEFT_CC/1.3.6.1.4.1.9590.100.1.2.347107867812656628709864319310977895697/1.3.6.1.4.1.9590.100.1.2.89180046211022531834352631483669346540/000000.dcm",
         "Mass-Training_P_00004_LEFT_CC_1/1.3.6.1.4.1.9590.100.1.2.414182170112396175925115449620455230167/1.3.6.1.4.1.9590.100.1.2.429120414011832984817094399141838850375/000000.dcm",
         "Mass-Training_P_00004_LEFT_CC_1/1.3.6.1.4.1.9590.100.1.2.414182170112396175925115449620455230167/1.3.6.1.4.1.9590.100.1.2.429120414011832984817094399141838850375/000001.dcm\n"
        ],
        [
         "3",
         "P_00004",
         "3",
         "LEFT",
         "MLO",
         "1",
         "mass",
         "ARCHITECTURAL_DISTORTION",
         "ILL_DEFINED",
         "4",
         "BENIGN",
         "3",
         "Mass-Training_P_00004_LEFT_MLO/1.3.6.1.4.1.9590.100.1.2.272600286511817402806912403581910920939/1.3.6.1.4.1.9590.100.1.2.295360926313492745441868049270168300162/000000.dcm",
         "Mass-Training_P_00004_LEFT_MLO_1/1.3.6.1.4.1.9590.100.1.2.342549219112801262604988012930063078769/1.3.6.1.4.1.9590.100.1.2.115134232113001553100559896703407510515/000000.dcm",
         "Mass-Training_P_00004_LEFT_MLO_1/1.3.6.1.4.1.9590.100.1.2.342549219112801262604988012930063078769/1.3.6.1.4.1.9590.100.1.2.115134232113001553100559896703407510515/000001.dcm\n"
        ],
        [
         "4",
         "P_00004",
         "3",
         "RIGHT",
         "MLO",
         "1",
         "mass",
         "OVAL",
         "CIRCUMSCRIBED",
         "4",
         "BENIGN",
         "5",
         "Mass-Training_P_00004_RIGHT_MLO/1.3.6.1.4.1.9590.100.1.2.174047308712169195014610267031196524486/1.3.6.1.4.1.9590.100.1.2.410524754913057908920631336070876889890/000000.dcm",
         "Mass-Training_P_00004_RIGHT_MLO_1/1.3.6.1.4.1.9590.100.1.2.341142631111685501338932932302380583774/1.3.6.1.4.1.9590.100.1.2.12857366312625701203276284233604184846/000000.dcm",
         "Mass-Training_P_00004_RIGHT_MLO_1/1.3.6.1.4.1.9590.100.1.2.341142631111685501338932932302380583774/1.3.6.1.4.1.9590.100.1.2.12857366312625701203276284233604184846/000001.dcm\n"
        ]
       ],
       "shape": {
        "columns": 14,
        "rows": 5
       }
      },
      "text/html": [
       "<div>\n",
       "<style scoped>\n",
       "    .dataframe tbody tr th:only-of-type {\n",
       "        vertical-align: middle;\n",
       "    }\n",
       "\n",
       "    .dataframe tbody tr th {\n",
       "        vertical-align: top;\n",
       "    }\n",
       "\n",
       "    .dataframe thead th {\n",
       "        text-align: right;\n",
       "    }\n",
       "</style>\n",
       "<table border=\"1\" class=\"dataframe\">\n",
       "  <thead>\n",
       "    <tr style=\"text-align: right;\">\n",
       "      <th></th>\n",
       "      <th>patient_id</th>\n",
       "      <th>breast_density</th>\n",
       "      <th>left or right breast</th>\n",
       "      <th>image view</th>\n",
       "      <th>abnormality id</th>\n",
       "      <th>abnormality type</th>\n",
       "      <th>mass shape</th>\n",
       "      <th>mass margins</th>\n",
       "      <th>assessment</th>\n",
       "      <th>pathology</th>\n",
       "      <th>subtlety</th>\n",
       "      <th>image file path</th>\n",
       "      <th>cropped image file path</th>\n",
       "      <th>ROI mask file path</th>\n",
       "    </tr>\n",
       "  </thead>\n",
       "  <tbody>\n",
       "    <tr>\n",
       "      <th>0</th>\n",
       "      <td>P_00001</td>\n",
       "      <td>3</td>\n",
       "      <td>LEFT</td>\n",
       "      <td>CC</td>\n",
       "      <td>1</td>\n",
       "      <td>mass</td>\n",
       "      <td>IRREGULAR-ARCHITECTURAL_DISTORTION</td>\n",
       "      <td>SPICULATED</td>\n",
       "      <td>4</td>\n",
       "      <td>MALIGNANT</td>\n",
       "      <td>4</td>\n",
       "      <td>Mass-Training_P_00001_LEFT_CC/1.3.6.1.4.1.9590...</td>\n",
       "      <td>Mass-Training_P_00001_LEFT_CC_1/1.3.6.1.4.1.95...</td>\n",
       "      <td>Mass-Training_P_00001_LEFT_CC_1/1.3.6.1.4.1.95...</td>\n",
       "    </tr>\n",
       "    <tr>\n",
       "      <th>1</th>\n",
       "      <td>P_00001</td>\n",
       "      <td>3</td>\n",
       "      <td>LEFT</td>\n",
       "      <td>MLO</td>\n",
       "      <td>1</td>\n",
       "      <td>mass</td>\n",
       "      <td>IRREGULAR-ARCHITECTURAL_DISTORTION</td>\n",
       "      <td>SPICULATED</td>\n",
       "      <td>4</td>\n",
       "      <td>MALIGNANT</td>\n",
       "      <td>4</td>\n",
       "      <td>Mass-Training_P_00001_LEFT_MLO/1.3.6.1.4.1.959...</td>\n",
       "      <td>Mass-Training_P_00001_LEFT_MLO_1/1.3.6.1.4.1.9...</td>\n",
       "      <td>Mass-Training_P_00001_LEFT_MLO_1/1.3.6.1.4.1.9...</td>\n",
       "    </tr>\n",
       "    <tr>\n",
       "      <th>2</th>\n",
       "      <td>P_00004</td>\n",
       "      <td>3</td>\n",
       "      <td>LEFT</td>\n",
       "      <td>CC</td>\n",
       "      <td>1</td>\n",
       "      <td>mass</td>\n",
       "      <td>ARCHITECTURAL_DISTORTION</td>\n",
       "      <td>ILL_DEFINED</td>\n",
       "      <td>4</td>\n",
       "      <td>BENIGN</td>\n",
       "      <td>3</td>\n",
       "      <td>Mass-Training_P_00004_LEFT_CC/1.3.6.1.4.1.9590...</td>\n",
       "      <td>Mass-Training_P_00004_LEFT_CC_1/1.3.6.1.4.1.95...</td>\n",
       "      <td>Mass-Training_P_00004_LEFT_CC_1/1.3.6.1.4.1.95...</td>\n",
       "    </tr>\n",
       "    <tr>\n",
       "      <th>3</th>\n",
       "      <td>P_00004</td>\n",
       "      <td>3</td>\n",
       "      <td>LEFT</td>\n",
       "      <td>MLO</td>\n",
       "      <td>1</td>\n",
       "      <td>mass</td>\n",
       "      <td>ARCHITECTURAL_DISTORTION</td>\n",
       "      <td>ILL_DEFINED</td>\n",
       "      <td>4</td>\n",
       "      <td>BENIGN</td>\n",
       "      <td>3</td>\n",
       "      <td>Mass-Training_P_00004_LEFT_MLO/1.3.6.1.4.1.959...</td>\n",
       "      <td>Mass-Training_P_00004_LEFT_MLO_1/1.3.6.1.4.1.9...</td>\n",
       "      <td>Mass-Training_P_00004_LEFT_MLO_1/1.3.6.1.4.1.9...</td>\n",
       "    </tr>\n",
       "    <tr>\n",
       "      <th>4</th>\n",
       "      <td>P_00004</td>\n",
       "      <td>3</td>\n",
       "      <td>RIGHT</td>\n",
       "      <td>MLO</td>\n",
       "      <td>1</td>\n",
       "      <td>mass</td>\n",
       "      <td>OVAL</td>\n",
       "      <td>CIRCUMSCRIBED</td>\n",
       "      <td>4</td>\n",
       "      <td>BENIGN</td>\n",
       "      <td>5</td>\n",
       "      <td>Mass-Training_P_00004_RIGHT_MLO/1.3.6.1.4.1.95...</td>\n",
       "      <td>Mass-Training_P_00004_RIGHT_MLO_1/1.3.6.1.4.1....</td>\n",
       "      <td>Mass-Training_P_00004_RIGHT_MLO_1/1.3.6.1.4.1....</td>\n",
       "    </tr>\n",
       "  </tbody>\n",
       "</table>\n",
       "</div>"
      ],
      "text/plain": [
       "  patient_id  breast_density left or right breast image view  abnormality id  \\\n",
       "0    P_00001               3                 LEFT         CC               1   \n",
       "1    P_00001               3                 LEFT        MLO               1   \n",
       "2    P_00004               3                 LEFT         CC               1   \n",
       "3    P_00004               3                 LEFT        MLO               1   \n",
       "4    P_00004               3                RIGHT        MLO               1   \n",
       "\n",
       "  abnormality type                          mass shape   mass margins  \\\n",
       "0             mass  IRREGULAR-ARCHITECTURAL_DISTORTION     SPICULATED   \n",
       "1             mass  IRREGULAR-ARCHITECTURAL_DISTORTION     SPICULATED   \n",
       "2             mass            ARCHITECTURAL_DISTORTION    ILL_DEFINED   \n",
       "3             mass            ARCHITECTURAL_DISTORTION    ILL_DEFINED   \n",
       "4             mass                                OVAL  CIRCUMSCRIBED   \n",
       "\n",
       "   assessment  pathology  subtlety  \\\n",
       "0           4  MALIGNANT         4   \n",
       "1           4  MALIGNANT         4   \n",
       "2           4     BENIGN         3   \n",
       "3           4     BENIGN         3   \n",
       "4           4     BENIGN         5   \n",
       "\n",
       "                                     image file path  \\\n",
       "0  Mass-Training_P_00001_LEFT_CC/1.3.6.1.4.1.9590...   \n",
       "1  Mass-Training_P_00001_LEFT_MLO/1.3.6.1.4.1.959...   \n",
       "2  Mass-Training_P_00004_LEFT_CC/1.3.6.1.4.1.9590...   \n",
       "3  Mass-Training_P_00004_LEFT_MLO/1.3.6.1.4.1.959...   \n",
       "4  Mass-Training_P_00004_RIGHT_MLO/1.3.6.1.4.1.95...   \n",
       "\n",
       "                             cropped image file path  \\\n",
       "0  Mass-Training_P_00001_LEFT_CC_1/1.3.6.1.4.1.95...   \n",
       "1  Mass-Training_P_00001_LEFT_MLO_1/1.3.6.1.4.1.9...   \n",
       "2  Mass-Training_P_00004_LEFT_CC_1/1.3.6.1.4.1.95...   \n",
       "3  Mass-Training_P_00004_LEFT_MLO_1/1.3.6.1.4.1.9...   \n",
       "4  Mass-Training_P_00004_RIGHT_MLO_1/1.3.6.1.4.1....   \n",
       "\n",
       "                                  ROI mask file path  \n",
       "0  Mass-Training_P_00001_LEFT_CC_1/1.3.6.1.4.1.95...  \n",
       "1  Mass-Training_P_00001_LEFT_MLO_1/1.3.6.1.4.1.9...  \n",
       "2  Mass-Training_P_00004_LEFT_CC_1/1.3.6.1.4.1.95...  \n",
       "3  Mass-Training_P_00004_LEFT_MLO_1/1.3.6.1.4.1.9...  \n",
       "4  Mass-Training_P_00004_RIGHT_MLO_1/1.3.6.1.4.1....  "
      ]
     },
     "execution_count": 50,
     "metadata": {},
     "output_type": "execute_result"
    }
   ],
   "source": [
    "mass_case_df.head(5)"
   ]
  },
  {
   "cell_type": "code",
   "execution_count": 51,
   "metadata": {},
   "outputs": [
    {
     "data": {
      "application/vnd.microsoft.datawrangler.viewer.v0+json": {
       "columns": [
        {
         "name": "index",
         "rawType": "int64",
         "type": "integer"
        },
        {
         "name": "file_path",
         "rawType": "object",
         "type": "string"
        },
        {
         "name": "image_path",
         "rawType": "object",
         "type": "string"
        },
        {
         "name": "AccessionNumber",
         "rawType": "float64",
         "type": "float"
        },
        {
         "name": "BitsAllocated",
         "rawType": "int64",
         "type": "integer"
        },
        {
         "name": "BitsStored",
         "rawType": "int64",
         "type": "integer"
        },
        {
         "name": "BodyPartExamined",
         "rawType": "object",
         "type": "string"
        },
        {
         "name": "Columns",
         "rawType": "int64",
         "type": "integer"
        },
        {
         "name": "ContentDate",
         "rawType": "int64",
         "type": "integer"
        },
        {
         "name": "ContentTime",
         "rawType": "float64",
         "type": "float"
        },
        {
         "name": "ConversionType",
         "rawType": "object",
         "type": "string"
        },
        {
         "name": "HighBit",
         "rawType": "int64",
         "type": "integer"
        },
        {
         "name": "InstanceNumber",
         "rawType": "int64",
         "type": "integer"
        },
        {
         "name": "LargestImagePixelValue",
         "rawType": "int64",
         "type": "integer"
        },
        {
         "name": "Laterality",
         "rawType": "object",
         "type": "unknown"
        },
        {
         "name": "Modality",
         "rawType": "object",
         "type": "string"
        },
        {
         "name": "PatientBirthDate",
         "rawType": "float64",
         "type": "float"
        },
        {
         "name": "PatientID",
         "rawType": "object",
         "type": "string"
        },
        {
         "name": "PatientName",
         "rawType": "object",
         "type": "string"
        },
        {
         "name": "PatientOrientation",
         "rawType": "object",
         "type": "string"
        },
        {
         "name": "PatientSex",
         "rawType": "float64",
         "type": "float"
        },
        {
         "name": "PhotometricInterpretation",
         "rawType": "object",
         "type": "string"
        },
        {
         "name": "PixelRepresentation",
         "rawType": "int64",
         "type": "integer"
        },
        {
         "name": "ReferringPhysicianName",
         "rawType": "float64",
         "type": "float"
        },
        {
         "name": "Rows",
         "rawType": "int64",
         "type": "integer"
        },
        {
         "name": "SOPClassUID",
         "rawType": "object",
         "type": "string"
        },
        {
         "name": "SOPInstanceUID",
         "rawType": "object",
         "type": "string"
        },
        {
         "name": "SamplesPerPixel",
         "rawType": "int64",
         "type": "integer"
        },
        {
         "name": "SecondaryCaptureDeviceManufacturer",
         "rawType": "object",
         "type": "string"
        },
        {
         "name": "SecondaryCaptureDeviceManufacturerModelName",
         "rawType": "object",
         "type": "string"
        },
        {
         "name": "SeriesDescription",
         "rawType": "object",
         "type": "unknown"
        },
        {
         "name": "SeriesInstanceUID",
         "rawType": "object",
         "type": "string"
        },
        {
         "name": "SeriesNumber",
         "rawType": "int64",
         "type": "integer"
        },
        {
         "name": "SmallestImagePixelValue",
         "rawType": "int64",
         "type": "integer"
        },
        {
         "name": "SpecificCharacterSet",
         "rawType": "object",
         "type": "string"
        },
        {
         "name": "StudyDate",
         "rawType": "float64",
         "type": "float"
        },
        {
         "name": "StudyID",
         "rawType": "object",
         "type": "string"
        },
        {
         "name": "StudyInstanceUID",
         "rawType": "object",
         "type": "string"
        },
        {
         "name": "StudyTime",
         "rawType": "float64",
         "type": "float"
        }
       ],
       "conversionMethod": "pd.DataFrame",
       "ref": "89769291-58cd-459b-a7d5-3a5fabbd20cf",
       "rows": [
        [
         "0",
         "CBIS-DDSM/dicom/1.3.6.1.4.1.9590.100.1.2.129308726812851964007517874181459556304/1-172.dcm",
         "CBIS-DDSM/jpeg/1.3.6.1.4.1.9590.100.1.2.129308726812851964007517874181459556304/1-172.jpg",
         null,
         "16",
         "16",
         "BREAST",
         "351",
         "20160426",
         "131732.685",
         "WSD",
         "15",
         "1",
         "65535",
         "R",
         "MG",
         null,
         "Mass-Training_P_01265_RIGHT_MLO_1",
         "Mass-Training_P_01265_RIGHT_MLO_1",
         "MLO",
         null,
         "MONOCHROME2",
         "0",
         null,
         "289",
         "1.2.840.10008.5.1.4.1.1.7",
         "1.3.6.1.4.1.9590.100.1.2.426380754911844882201419900442081103076",
         "1",
         "MathWorks",
         "MATLAB",
         "cropped images",
         "1.3.6.1.4.1.9590.100.1.2.129308726812851964007517874181459556304",
         "1",
         "23078",
         "ISO_IR 100",
         "20160720.0",
         "DDSM",
         "1.3.6.1.4.1.9590.100.1.2.271867287611061855725036643043149877819",
         "214951.0"
        ],
        [
         "1",
         "CBIS-DDSM/dicom/1.3.6.1.4.1.9590.100.1.2.248386742010678582309005372213277814849/1-249.dcm",
         "CBIS-DDSM/jpeg/1.3.6.1.4.1.9590.100.1.2.248386742010678582309005372213277814849/1-249.jpg",
         null,
         "16",
         "16",
         "BREAST",
         "3526",
         "20160426",
         "143829.101",
         "WSD",
         "15",
         "1",
         "65535",
         "R",
         "MG",
         null,
         "Mass-Training_P_01754_RIGHT_CC",
         "Mass-Training_P_01754_RIGHT_CC",
         "CC",
         null,
         "MONOCHROME2",
         "0",
         null,
         "6256",
         "1.2.840.10008.5.1.4.1.1.7",
         "1.3.6.1.4.1.9590.100.1.2.235715018911442345533339224491594398571",
         "1",
         "MathWorks",
         "MATLAB",
         "full mammogram images",
         "1.3.6.1.4.1.9590.100.1.2.248386742010678582309005372213277814849",
         "1",
         "0",
         "ISO_IR 100",
         "20160720.0",
         "DDSM",
         "1.3.6.1.4.1.9590.100.1.2.161516517311681906612443997862211969669",
         "193426.0"
        ],
        [
         "2",
         "CBIS-DDSM/dicom/1.3.6.1.4.1.9590.100.1.2.267213171011171858918434139331210917771/1-032.dcm",
         "CBIS-DDSM/jpeg/1.3.6.1.4.1.9590.100.1.2.267213171011171858918434139331210917771/1-032.jpg",
         null,
         "16",
         "16",
         "BREAST",
         "1546",
         "20160503",
         "111956.298",
         "WSD",
         "15",
         "1",
         "65535",
         "R",
         "MG",
         null,
         "Calc-Training_P_00232_RIGHT_CC",
         "Calc-Training_P_00232_RIGHT_CC",
         "CC",
         null,
         "MONOCHROME2",
         "0",
         null,
         "4126",
         "1.2.840.10008.5.1.4.1.1.7",
         "1.3.6.1.4.1.9590.100.1.2.212917405611495375422194124032450014293",
         "1",
         "MathWorks",
         "MATLAB",
         "full mammogram images",
         "1.3.6.1.4.1.9590.100.1.2.267213171011171858918434139331210917771",
         "1",
         "0",
         "ISO_IR 100",
         "20160807.0",
         "DDSM",
         "1.3.6.1.4.1.9590.100.1.2.291043622711253836701017460903623585574",
         "161814.0"
        ],
        [
         "3",
         "CBIS-DDSM/dicom/1.3.6.1.4.1.9590.100.1.2.381187369611524586537789902641525311317/1-052.dcm",
         "CBIS-DDSM/jpeg/1.3.6.1.4.1.9590.100.1.2.381187369611524586537789902641525311317/1-052.jpg",
         null,
         "16",
         "16",
         "BREAST",
         "97",
         "20160503",
         "115347.77",
         "WSD",
         "15",
         "1",
         "65535",
         "L",
         "MG",
         null,
         "Calc-Test_P_00562_LEFT_CC_2",
         "Calc-Test_P_00562_LEFT_CC_2",
         "CC",
         null,
         "MONOCHROME2",
         "0",
         null,
         "97",
         "1.2.840.10008.5.1.4.1.1.7",
         "1.3.6.1.4.1.9590.100.1.2.405776661412249467913600188550817314766",
         "1",
         "MathWorks",
         "MATLAB",
         "cropped images",
         "1.3.6.1.4.1.9590.100.1.2.381187369611524586537789902641525311317",
         "1",
         "32298",
         "ISO_IR 100",
         "20170829.0",
         "DDSM",
         "1.3.6.1.4.1.9590.100.1.2.335006093711888937440665960211609580159",
         "180109.0"
        ],
        [
         "4",
         "CBIS-DDSM/dicom/1.3.6.1.4.1.9590.100.1.2.381187369611524586537789902641525311317/2-204.dcm",
         "CBIS-DDSM/jpeg/1.3.6.1.4.1.9590.100.1.2.381187369611524586537789902641525311317/2-204.jpg",
         null,
         "8",
         "8",
         "Left Breast",
         "3104",
         "20160503",
         "115347.77",
         "WSD",
         "7",
         "1",
         "255",
         null,
         "MG",
         null,
         "P_00562_LEFT_CC_2.dcm",
         "P_00562^P_00562",
         "CC",
         null,
         "MONOCHROME2",
         "0",
         null,
         "4560",
         "1.2.840.10008.5.1.4.1.1.7",
         "1.3.6.1.4.1.9590.100.1.2.418434643810489919922754459191670588257",
         "1",
         "MathWorks",
         "MATLAB",
         null,
         "1.3.6.1.4.1.9590.100.1.2.381187369611524586537789902641525311317",
         "1",
         "0",
         "ISO_IR 100",
         null,
         "DDSM",
         "1.3.6.1.4.1.9590.100.1.2.335006093711888937440665960211609580159",
         null
        ]
       ],
       "shape": {
        "columns": 38,
        "rows": 5
       }
      },
      "text/html": [
       "<div>\n",
       "<style scoped>\n",
       "    .dataframe tbody tr th:only-of-type {\n",
       "        vertical-align: middle;\n",
       "    }\n",
       "\n",
       "    .dataframe tbody tr th {\n",
       "        vertical-align: top;\n",
       "    }\n",
       "\n",
       "    .dataframe thead th {\n",
       "        text-align: right;\n",
       "    }\n",
       "</style>\n",
       "<table border=\"1\" class=\"dataframe\">\n",
       "  <thead>\n",
       "    <tr style=\"text-align: right;\">\n",
       "      <th></th>\n",
       "      <th>file_path</th>\n",
       "      <th>image_path</th>\n",
       "      <th>AccessionNumber</th>\n",
       "      <th>BitsAllocated</th>\n",
       "      <th>BitsStored</th>\n",
       "      <th>BodyPartExamined</th>\n",
       "      <th>Columns</th>\n",
       "      <th>ContentDate</th>\n",
       "      <th>ContentTime</th>\n",
       "      <th>ConversionType</th>\n",
       "      <th>...</th>\n",
       "      <th>SecondaryCaptureDeviceManufacturerModelName</th>\n",
       "      <th>SeriesDescription</th>\n",
       "      <th>SeriesInstanceUID</th>\n",
       "      <th>SeriesNumber</th>\n",
       "      <th>SmallestImagePixelValue</th>\n",
       "      <th>SpecificCharacterSet</th>\n",
       "      <th>StudyDate</th>\n",
       "      <th>StudyID</th>\n",
       "      <th>StudyInstanceUID</th>\n",
       "      <th>StudyTime</th>\n",
       "    </tr>\n",
       "  </thead>\n",
       "  <tbody>\n",
       "    <tr>\n",
       "      <th>0</th>\n",
       "      <td>CBIS-DDSM/dicom/1.3.6.1.4.1.9590.100.1.2.12930...</td>\n",
       "      <td>CBIS-DDSM/jpeg/1.3.6.1.4.1.9590.100.1.2.129308...</td>\n",
       "      <td>NaN</td>\n",
       "      <td>16</td>\n",
       "      <td>16</td>\n",
       "      <td>BREAST</td>\n",
       "      <td>351</td>\n",
       "      <td>20160426</td>\n",
       "      <td>131732.685</td>\n",
       "      <td>WSD</td>\n",
       "      <td>...</td>\n",
       "      <td>MATLAB</td>\n",
       "      <td>cropped images</td>\n",
       "      <td>1.3.6.1.4.1.9590.100.1.2.129308726812851964007...</td>\n",
       "      <td>1</td>\n",
       "      <td>23078</td>\n",
       "      <td>ISO_IR 100</td>\n",
       "      <td>20160720.0</td>\n",
       "      <td>DDSM</td>\n",
       "      <td>1.3.6.1.4.1.9590.100.1.2.271867287611061855725...</td>\n",
       "      <td>214951.0</td>\n",
       "    </tr>\n",
       "    <tr>\n",
       "      <th>1</th>\n",
       "      <td>CBIS-DDSM/dicom/1.3.6.1.4.1.9590.100.1.2.24838...</td>\n",
       "      <td>CBIS-DDSM/jpeg/1.3.6.1.4.1.9590.100.1.2.248386...</td>\n",
       "      <td>NaN</td>\n",
       "      <td>16</td>\n",
       "      <td>16</td>\n",
       "      <td>BREAST</td>\n",
       "      <td>3526</td>\n",
       "      <td>20160426</td>\n",
       "      <td>143829.101</td>\n",
       "      <td>WSD</td>\n",
       "      <td>...</td>\n",
       "      <td>MATLAB</td>\n",
       "      <td>full mammogram images</td>\n",
       "      <td>1.3.6.1.4.1.9590.100.1.2.248386742010678582309...</td>\n",
       "      <td>1</td>\n",
       "      <td>0</td>\n",
       "      <td>ISO_IR 100</td>\n",
       "      <td>20160720.0</td>\n",
       "      <td>DDSM</td>\n",
       "      <td>1.3.6.1.4.1.9590.100.1.2.161516517311681906612...</td>\n",
       "      <td>193426.0</td>\n",
       "    </tr>\n",
       "    <tr>\n",
       "      <th>2</th>\n",
       "      <td>CBIS-DDSM/dicom/1.3.6.1.4.1.9590.100.1.2.26721...</td>\n",
       "      <td>CBIS-DDSM/jpeg/1.3.6.1.4.1.9590.100.1.2.267213...</td>\n",
       "      <td>NaN</td>\n",
       "      <td>16</td>\n",
       "      <td>16</td>\n",
       "      <td>BREAST</td>\n",
       "      <td>1546</td>\n",
       "      <td>20160503</td>\n",
       "      <td>111956.298</td>\n",
       "      <td>WSD</td>\n",
       "      <td>...</td>\n",
       "      <td>MATLAB</td>\n",
       "      <td>full mammogram images</td>\n",
       "      <td>1.3.6.1.4.1.9590.100.1.2.267213171011171858918...</td>\n",
       "      <td>1</td>\n",
       "      <td>0</td>\n",
       "      <td>ISO_IR 100</td>\n",
       "      <td>20160807.0</td>\n",
       "      <td>DDSM</td>\n",
       "      <td>1.3.6.1.4.1.9590.100.1.2.291043622711253836701...</td>\n",
       "      <td>161814.0</td>\n",
       "    </tr>\n",
       "    <tr>\n",
       "      <th>3</th>\n",
       "      <td>CBIS-DDSM/dicom/1.3.6.1.4.1.9590.100.1.2.38118...</td>\n",
       "      <td>CBIS-DDSM/jpeg/1.3.6.1.4.1.9590.100.1.2.381187...</td>\n",
       "      <td>NaN</td>\n",
       "      <td>16</td>\n",
       "      <td>16</td>\n",
       "      <td>BREAST</td>\n",
       "      <td>97</td>\n",
       "      <td>20160503</td>\n",
       "      <td>115347.770</td>\n",
       "      <td>WSD</td>\n",
       "      <td>...</td>\n",
       "      <td>MATLAB</td>\n",
       "      <td>cropped images</td>\n",
       "      <td>1.3.6.1.4.1.9590.100.1.2.381187369611524586537...</td>\n",
       "      <td>1</td>\n",
       "      <td>32298</td>\n",
       "      <td>ISO_IR 100</td>\n",
       "      <td>20170829.0</td>\n",
       "      <td>DDSM</td>\n",
       "      <td>1.3.6.1.4.1.9590.100.1.2.335006093711888937440...</td>\n",
       "      <td>180109.0</td>\n",
       "    </tr>\n",
       "    <tr>\n",
       "      <th>4</th>\n",
       "      <td>CBIS-DDSM/dicom/1.3.6.1.4.1.9590.100.1.2.38118...</td>\n",
       "      <td>CBIS-DDSM/jpeg/1.3.6.1.4.1.9590.100.1.2.381187...</td>\n",
       "      <td>NaN</td>\n",
       "      <td>8</td>\n",
       "      <td>8</td>\n",
       "      <td>Left Breast</td>\n",
       "      <td>3104</td>\n",
       "      <td>20160503</td>\n",
       "      <td>115347.770</td>\n",
       "      <td>WSD</td>\n",
       "      <td>...</td>\n",
       "      <td>MATLAB</td>\n",
       "      <td>NaN</td>\n",
       "      <td>1.3.6.1.4.1.9590.100.1.2.381187369611524586537...</td>\n",
       "      <td>1</td>\n",
       "      <td>0</td>\n",
       "      <td>ISO_IR 100</td>\n",
       "      <td>NaN</td>\n",
       "      <td>DDSM</td>\n",
       "      <td>1.3.6.1.4.1.9590.100.1.2.335006093711888937440...</td>\n",
       "      <td>NaN</td>\n",
       "    </tr>\n",
       "  </tbody>\n",
       "</table>\n",
       "<p>5 rows × 38 columns</p>\n",
       "</div>"
      ],
      "text/plain": [
       "                                           file_path  \\\n",
       "0  CBIS-DDSM/dicom/1.3.6.1.4.1.9590.100.1.2.12930...   \n",
       "1  CBIS-DDSM/dicom/1.3.6.1.4.1.9590.100.1.2.24838...   \n",
       "2  CBIS-DDSM/dicom/1.3.6.1.4.1.9590.100.1.2.26721...   \n",
       "3  CBIS-DDSM/dicom/1.3.6.1.4.1.9590.100.1.2.38118...   \n",
       "4  CBIS-DDSM/dicom/1.3.6.1.4.1.9590.100.1.2.38118...   \n",
       "\n",
       "                                          image_path  AccessionNumber  \\\n",
       "0  CBIS-DDSM/jpeg/1.3.6.1.4.1.9590.100.1.2.129308...              NaN   \n",
       "1  CBIS-DDSM/jpeg/1.3.6.1.4.1.9590.100.1.2.248386...              NaN   \n",
       "2  CBIS-DDSM/jpeg/1.3.6.1.4.1.9590.100.1.2.267213...              NaN   \n",
       "3  CBIS-DDSM/jpeg/1.3.6.1.4.1.9590.100.1.2.381187...              NaN   \n",
       "4  CBIS-DDSM/jpeg/1.3.6.1.4.1.9590.100.1.2.381187...              NaN   \n",
       "\n",
       "   BitsAllocated  BitsStored BodyPartExamined  Columns  ContentDate  \\\n",
       "0             16          16           BREAST      351     20160426   \n",
       "1             16          16           BREAST     3526     20160426   \n",
       "2             16          16           BREAST     1546     20160503   \n",
       "3             16          16           BREAST       97     20160503   \n",
       "4              8           8      Left Breast     3104     20160503   \n",
       "\n",
       "   ContentTime ConversionType  ...  \\\n",
       "0   131732.685            WSD  ...   \n",
       "1   143829.101            WSD  ...   \n",
       "2   111956.298            WSD  ...   \n",
       "3   115347.770            WSD  ...   \n",
       "4   115347.770            WSD  ...   \n",
       "\n",
       "   SecondaryCaptureDeviceManufacturerModelName      SeriesDescription  \\\n",
       "0                                       MATLAB         cropped images   \n",
       "1                                       MATLAB  full mammogram images   \n",
       "2                                       MATLAB  full mammogram images   \n",
       "3                                       MATLAB         cropped images   \n",
       "4                                       MATLAB                    NaN   \n",
       "\n",
       "                                   SeriesInstanceUID SeriesNumber  \\\n",
       "0  1.3.6.1.4.1.9590.100.1.2.129308726812851964007...            1   \n",
       "1  1.3.6.1.4.1.9590.100.1.2.248386742010678582309...            1   \n",
       "2  1.3.6.1.4.1.9590.100.1.2.267213171011171858918...            1   \n",
       "3  1.3.6.1.4.1.9590.100.1.2.381187369611524586537...            1   \n",
       "4  1.3.6.1.4.1.9590.100.1.2.381187369611524586537...            1   \n",
       "\n",
       "  SmallestImagePixelValue  SpecificCharacterSet   StudyDate StudyID  \\\n",
       "0                   23078            ISO_IR 100  20160720.0    DDSM   \n",
       "1                       0            ISO_IR 100  20160720.0    DDSM   \n",
       "2                       0            ISO_IR 100  20160807.0    DDSM   \n",
       "3                   32298            ISO_IR 100  20170829.0    DDSM   \n",
       "4                       0            ISO_IR 100         NaN    DDSM   \n",
       "\n",
       "                                    StudyInstanceUID  StudyTime  \n",
       "0  1.3.6.1.4.1.9590.100.1.2.271867287611061855725...   214951.0  \n",
       "1  1.3.6.1.4.1.9590.100.1.2.161516517311681906612...   193426.0  \n",
       "2  1.3.6.1.4.1.9590.100.1.2.291043622711253836701...   161814.0  \n",
       "3  1.3.6.1.4.1.9590.100.1.2.335006093711888937440...   180109.0  \n",
       "4  1.3.6.1.4.1.9590.100.1.2.335006093711888937440...        NaN  \n",
       "\n",
       "[5 rows x 38 columns]"
      ]
     },
     "execution_count": 51,
     "metadata": {},
     "output_type": "execute_result"
    }
   ],
   "source": [
    "dicom_cleaned_data = dicom_data.copy()\n",
    "dicom_cleaned_data.head()"
   ]
  },
  {
   "cell_type": "code",
   "execution_count": 52,
   "metadata": {},
   "outputs": [],
   "source": [
    "dicom_cleaned_data.drop(['PatientBirthDate','AccessionNumber','Columns','ContentDate','ContentTime','PatientSex','PatientBirthDate',\n",
    "                                                'ReferringPhysicianName','Rows','SOPClassUID','SOPInstanceUID',\n",
    "                                                'StudyDate','StudyID','StudyInstanceUID','StudyTime','InstanceNumber','SeriesInstanceUID','SeriesNumber'],axis =1, inplace=True)"
   ]
  },
  {
   "cell_type": "code",
   "execution_count": 53,
   "metadata": {},
   "outputs": [
    {
     "name": "stdout",
     "output_type": "stream",
     "text": [
      "<class 'pandas.core.frame.DataFrame'>\n",
      "RangeIndex: 10237 entries, 0 to 10236\n",
      "Data columns (total 21 columns):\n",
      " #   Column                                       Non-Null Count  Dtype \n",
      "---  ------                                       --------------  ----- \n",
      " 0   file_path                                    10237 non-null  object\n",
      " 1   image_path                                   10237 non-null  object\n",
      " 2   BitsAllocated                                10237 non-null  int64 \n",
      " 3   BitsStored                                   10237 non-null  int64 \n",
      " 4   BodyPartExamined                             10237 non-null  object\n",
      " 5   ConversionType                               10237 non-null  object\n",
      " 6   HighBit                                      10237 non-null  int64 \n",
      " 7   LargestImagePixelValue                       10237 non-null  int64 \n",
      " 8   Laterality                                   9671 non-null   object\n",
      " 9   Modality                                     10237 non-null  object\n",
      " 10  PatientID                                    10237 non-null  object\n",
      " 11  PatientName                                  10237 non-null  object\n",
      " 12  PatientOrientation                           10237 non-null  object\n",
      " 13  PhotometricInterpretation                    10237 non-null  object\n",
      " 14  PixelRepresentation                          10237 non-null  int64 \n",
      " 15  SamplesPerPixel                              10237 non-null  int64 \n",
      " 16  SecondaryCaptureDeviceManufacturer           10237 non-null  object\n",
      " 17  SecondaryCaptureDeviceManufacturerModelName  10237 non-null  object\n",
      " 18  SeriesDescription                            9671 non-null   object\n",
      " 19  SmallestImagePixelValue                      10237 non-null  int64 \n",
      " 20  SpecificCharacterSet                         10237 non-null  object\n",
      "dtypes: int64(7), object(14)\n",
      "memory usage: 1.6+ MB\n"
     ]
    }
   ],
   "source": [
    "dicom_cleaned_data.info()"
   ]
  },
  {
   "cell_type": "code",
   "execution_count": 54,
   "metadata": {},
   "outputs": [
    {
     "data": {
      "text/plain": [
       "file_path                                        0\n",
       "image_path                                       0\n",
       "BitsAllocated                                    0\n",
       "BitsStored                                       0\n",
       "BodyPartExamined                                 0\n",
       "ConversionType                                   0\n",
       "HighBit                                          0\n",
       "LargestImagePixelValue                           0\n",
       "Laterality                                     566\n",
       "Modality                                         0\n",
       "PatientID                                        0\n",
       "PatientName                                      0\n",
       "PatientOrientation                               0\n",
       "PhotometricInterpretation                        0\n",
       "PixelRepresentation                              0\n",
       "SamplesPerPixel                                  0\n",
       "SecondaryCaptureDeviceManufacturer               0\n",
       "SecondaryCaptureDeviceManufacturerModelName      0\n",
       "SeriesDescription                              566\n",
       "SmallestImagePixelValue                          0\n",
       "SpecificCharacterSet                             0\n",
       "dtype: int64"
      ]
     },
     "execution_count": 54,
     "metadata": {},
     "output_type": "execute_result"
    }
   ],
   "source": [
    "dicom_cleaned_data.isna().sum()"
   ]
  },
  {
   "cell_type": "code",
   "execution_count": 55,
   "metadata": {},
   "outputs": [],
   "source": [
    "dicom_cleaned_data['SeriesDescription'].fillna(method = 'bfill', axis = 0, inplace=True)"
   ]
  },
  {
   "cell_type": "code",
   "execution_count": 56,
   "metadata": {},
   "outputs": [],
   "source": [
    "dicom_cleaned_data['Laterality'].fillna(method = 'bfill', axis = 0, inplace=True)"
   ]
  },
  {
   "cell_type": "code",
   "execution_count": 57,
   "metadata": {},
   "outputs": [
    {
     "data": {
      "text/plain": [
       "file_path                                      0\n",
       "image_path                                     0\n",
       "BitsAllocated                                  0\n",
       "BitsStored                                     0\n",
       "BodyPartExamined                               0\n",
       "ConversionType                                 0\n",
       "HighBit                                        0\n",
       "LargestImagePixelValue                         0\n",
       "Laterality                                     0\n",
       "Modality                                       0\n",
       "PatientID                                      0\n",
       "PatientName                                    0\n",
       "PatientOrientation                             0\n",
       "PhotometricInterpretation                      0\n",
       "PixelRepresentation                            0\n",
       "SamplesPerPixel                                0\n",
       "SecondaryCaptureDeviceManufacturer             0\n",
       "SecondaryCaptureDeviceManufacturerModelName    0\n",
       "SeriesDescription                              0\n",
       "SmallestImagePixelValue                        0\n",
       "SpecificCharacterSet                           0\n",
       "dtype: int64"
      ]
     },
     "execution_count": 57,
     "metadata": {},
     "output_type": "execute_result"
    }
   ],
   "source": [
    "dicom_cleaned_data.isna().sum()"
   ]
  },
  {
   "cell_type": "code",
   "execution_count": 58,
   "metadata": {},
   "outputs": [
    {
     "data": {
      "text/plain": [
       "patient_id                   0\n",
       "breast_density               0\n",
       "left_or_right_breast         0\n",
       "image_view                   0\n",
       "abnormality id               0\n",
       "abnormality_type             0\n",
       "calc_type                   20\n",
       "calc_distribution          376\n",
       "assessment                   0\n",
       "pathology                    0\n",
       "subtlety                     0\n",
       "image file path              0\n",
       "cropped image file path      0\n",
       "ROI mask file path           0\n",
       "dtype: int64"
      ]
     },
     "execution_count": 58,
     "metadata": {},
     "output_type": "execute_result"
    }
   ],
   "source": [
    "Data_cleaning_1 = calc_case_df.copy()\n",
    "Data_cleaning_1 = Data_cleaning_1.rename(columns={'calc type':'calc_type'})\n",
    "Data_cleaning_1 = Data_cleaning_1.rename(columns={'calc distribution':'calc_distribution'})\n",
    "Data_cleaning_1 = Data_cleaning_1.rename(columns={'image view':'image_view'})\n",
    "Data_cleaning_1 = Data_cleaning_1.rename(columns={'left or right breast':'left_or_right_breast'})\n",
    "Data_cleaning_1 = Data_cleaning_1.rename(columns={'breast density':'breast_density'})\n",
    "Data_cleaning_1 = Data_cleaning_1.rename(columns={'abnormality type':'abnormality_type'})\n",
    "Data_cleaning_1['pathology'] = Data_cleaning_1['pathology'].astype('category')\n",
    "Data_cleaning_1['calc_type'] = Data_cleaning_1['calc_type'].astype('category')\n",
    "Data_cleaning_1['calc_distribution'] = Data_cleaning_1['calc_distribution'].astype('category')\n",
    "Data_cleaning_1['abnormality_type'] = Data_cleaning_1['abnormality_type'].astype('category')\n",
    "Data_cleaning_1['image_view'] = Data_cleaning_1['image_view'].astype('category')\n",
    "Data_cleaning_1['left_or_right_breast'] = Data_cleaning_1['left_or_right_breast'].astype('category')\n",
    "Data_cleaning_1.isna().sum()"
   ]
  },
  {
   "cell_type": "code",
   "execution_count": 59,
   "metadata": {},
   "outputs": [
    {
     "data": {
      "text/plain": [
       "patient_id                 0\n",
       "breast_density             0\n",
       "left_or_right_breast       0\n",
       "image_view                 0\n",
       "abnormality id             0\n",
       "abnormality_type           0\n",
       "calc_type                  0\n",
       "calc_distribution          0\n",
       "assessment                 0\n",
       "pathology                  0\n",
       "subtlety                   0\n",
       "image file path            0\n",
       "cropped image file path    0\n",
       "ROI mask file path         0\n",
       "dtype: int64"
      ]
     },
     "execution_count": 59,
     "metadata": {},
     "output_type": "execute_result"
    }
   ],
   "source": [
    "Data_cleaning_1['calc_type'].fillna(method = 'bfill', axis = 0, inplace=True) \n",
    "Data_cleaning_1['calc_distribution'].fillna(method = 'bfill', axis = 0, inplace=True)\n",
    "Data_cleaning_1.isna().sum()"
   ]
  },
  {
   "cell_type": "code",
   "execution_count": 60,
   "metadata": {},
   "outputs": [
    {
     "data": {
      "text/plain": [
       "patient_id                  0\n",
       "breast_density              0\n",
       "left_or_right_breast        0\n",
       "image_view                  0\n",
       "abnormality id              0\n",
       "abnormality_type            0\n",
       "mass_shape                  4\n",
       "mass_margins               43\n",
       "assessment                  0\n",
       "pathology                   0\n",
       "subtlety                    0\n",
       "image file path             0\n",
       "cropped image file path     0\n",
       "ROI mask file path          0\n",
       "dtype: int64"
      ]
     },
     "execution_count": 60,
     "metadata": {},
     "output_type": "execute_result"
    }
   ],
   "source": [
    "Data_cleaning_2 = mass_case_df.copy()\n",
    "Data_cleaning_2 = Data_cleaning_2.rename(columns={'mass shape':'mass_shape'})\n",
    "Data_cleaning_2 = Data_cleaning_2.rename(columns={'left or right breast':'left_or_right_breast'})\n",
    "Data_cleaning_2 = Data_cleaning_2.rename(columns={'mass margins':'mass_margins'})\n",
    "Data_cleaning_2 = Data_cleaning_2.rename(columns={'image view':'image_view'})\n",
    "Data_cleaning_2 = Data_cleaning_2.rename(columns={'abnormality type':'abnormality_type'})\n",
    "Data_cleaning_2['left_or_right_breast'] = Data_cleaning_2['left_or_right_breast'].astype('category')\n",
    "Data_cleaning_2['image_view'] = Data_cleaning_2['image_view'].astype('category')\n",
    "Data_cleaning_2['mass_margins'] = Data_cleaning_2['mass_margins'].astype('category')\n",
    "Data_cleaning_2['mass_shape'] = Data_cleaning_2['mass_shape'].astype('category')\n",
    "Data_cleaning_2['abnormality_type'] = Data_cleaning_2['abnormality_type'].astype('category')\n",
    "Data_cleaning_2['pathology'] = Data_cleaning_2['pathology'].astype('category')\n",
    "Data_cleaning_2.isna().sum()\n"
   ]
  },
  {
   "cell_type": "code",
   "execution_count": 61,
   "metadata": {},
   "outputs": [
    {
     "data": {
      "text/plain": [
       "patient_id                 0\n",
       "breast_density             0\n",
       "left_or_right_breast       0\n",
       "image_view                 0\n",
       "abnormality id             0\n",
       "abnormality_type           0\n",
       "mass_shape                 0\n",
       "mass_margins               0\n",
       "assessment                 0\n",
       "pathology                  0\n",
       "subtlety                   0\n",
       "image file path            0\n",
       "cropped image file path    0\n",
       "ROI mask file path         0\n",
       "dtype: int64"
      ]
     },
     "execution_count": 61,
     "metadata": {},
     "output_type": "execute_result"
    }
   ],
   "source": [
    "Data_cleaning_2['mass_shape'].fillna(method = 'bfill', axis = 0, inplace=True) \n",
    "Data_cleaning_2['mass_margins'].fillna(method = 'bfill', axis = 0, inplace=True) \n",
    "Data_cleaning_2.isna().sum()"
   ]
  }
 ],
 "metadata": {
  "kernelspec": {
   "display_name": "bcseg_env",
   "language": "python",
   "name": "python3"
  },
  "language_info": {
   "codemirror_mode": {
    "name": "ipython",
    "version": 3
   },
   "file_extension": ".py",
   "mimetype": "text/x-python",
   "name": "python",
   "nbconvert_exporter": "python",
   "pygments_lexer": "ipython3",
   "version": "3.11.12"
  }
 },
 "nbformat": 4,
 "nbformat_minor": 2
}
